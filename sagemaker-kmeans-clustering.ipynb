{
 "cells": [
  {
   "cell_type": "code",
   "execution_count": 1,
   "metadata": {},
   "outputs": [
    {
     "name": "stdout",
     "output_type": "stream",
     "text": [
      "Requirement already satisfied: smdebug in /home/ec2-user/anaconda3/envs/mxnet_p36/lib/python3.6/site-packages (1.0.12)\n",
      "Requirement already satisfied: boto3>=1.10.32 in /home/ec2-user/anaconda3/envs/mxnet_p36/lib/python3.6/site-packages (from smdebug) (1.20.4)\n",
      "Requirement already satisfied: pyinstrument==3.4.2 in /home/ec2-user/anaconda3/envs/mxnet_p36/lib/python3.6/site-packages (from smdebug) (3.4.2)\n",
      "Requirement already satisfied: numpy>=1.16.0 in /home/ec2-user/anaconda3/envs/mxnet_p36/lib/python3.6/site-packages (from smdebug) (1.19.5)\n",
      "Requirement already satisfied: protobuf>=3.6.0 in /home/ec2-user/anaconda3/envs/mxnet_p36/lib/python3.6/site-packages (from smdebug) (3.19.1)\n",
      "Requirement already satisfied: packaging in /home/ec2-user/anaconda3/envs/mxnet_p36/lib/python3.6/site-packages (from smdebug) (21.2)\n",
      "Requirement already satisfied: pyinstrument-cext>=0.2.2 in /home/ec2-user/anaconda3/envs/mxnet_p36/lib/python3.6/site-packages (from pyinstrument==3.4.2->smdebug) (0.2.4)\n",
      "Requirement already satisfied: botocore<1.24.0,>=1.23.4 in /home/ec2-user/anaconda3/envs/mxnet_p36/lib/python3.6/site-packages (from boto3>=1.10.32->smdebug) (1.23.4)\n",
      "Requirement already satisfied: s3transfer<0.6.0,>=0.5.0 in /home/ec2-user/anaconda3/envs/mxnet_p36/lib/python3.6/site-packages (from boto3>=1.10.32->smdebug) (0.5.0)\n",
      "Requirement already satisfied: jmespath<1.0.0,>=0.7.1 in /home/ec2-user/anaconda3/envs/mxnet_p36/lib/python3.6/site-packages (from boto3>=1.10.32->smdebug) (0.10.0)\n",
      "Requirement already satisfied: urllib3<1.27,>=1.25.4 in /home/ec2-user/anaconda3/envs/mxnet_p36/lib/python3.6/site-packages (from botocore<1.24.0,>=1.23.4->boto3>=1.10.32->smdebug) (1.26.7)\n",
      "Requirement already satisfied: python-dateutil<3.0.0,>=2.1 in /home/ec2-user/anaconda3/envs/mxnet_p36/lib/python3.6/site-packages (from botocore<1.24.0,>=1.23.4->boto3>=1.10.32->smdebug) (2.8.2)\n",
      "Requirement already satisfied: six>=1.5 in /home/ec2-user/anaconda3/envs/mxnet_p36/lib/python3.6/site-packages (from python-dateutil<3.0.0,>=2.1->botocore<1.24.0,>=1.23.4->boto3>=1.10.32->smdebug) (1.16.0)\n",
      "Requirement already satisfied: pyparsing<3,>=2.0.2 in /home/ec2-user/anaconda3/envs/mxnet_p36/lib/python3.6/site-packages (from packaging->smdebug) (2.4.7)\n",
      "\u001b[33mWARNING: You are using pip version 21.2.4; however, version 21.3.1 is available.\n",
      "You should consider upgrading via the '/home/ec2-user/anaconda3/envs/mxnet_p36/bin/python -m pip install --upgrade pip' command.\u001b[0m\n",
      "Requirement already satisfied: seaborn in /home/ec2-user/anaconda3/envs/mxnet_p36/lib/python3.6/site-packages (0.11.1)\n",
      "Requirement already satisfied: matplotlib>=2.2 in /home/ec2-user/anaconda3/envs/mxnet_p36/lib/python3.6/site-packages (from seaborn) (3.3.4)\n",
      "Requirement already satisfied: scipy>=1.0 in /home/ec2-user/anaconda3/envs/mxnet_p36/lib/python3.6/site-packages (from seaborn) (1.5.3)\n",
      "Requirement already satisfied: pandas>=0.23 in /home/ec2-user/anaconda3/envs/mxnet_p36/lib/python3.6/site-packages (from seaborn) (1.1.5)\n",
      "Requirement already satisfied: numpy>=1.15 in /home/ec2-user/anaconda3/envs/mxnet_p36/lib/python3.6/site-packages (from seaborn) (1.19.5)\n",
      "Requirement already satisfied: python-dateutil>=2.1 in /home/ec2-user/anaconda3/envs/mxnet_p36/lib/python3.6/site-packages (from matplotlib>=2.2->seaborn) (2.8.2)\n",
      "Requirement already satisfied: pillow>=6.2.0 in /home/ec2-user/anaconda3/envs/mxnet_p36/lib/python3.6/site-packages (from matplotlib>=2.2->seaborn) (8.3.2)\n",
      "Requirement already satisfied: pyparsing!=2.0.4,!=2.1.2,!=2.1.6,>=2.0.3 in /home/ec2-user/anaconda3/envs/mxnet_p36/lib/python3.6/site-packages (from matplotlib>=2.2->seaborn) (2.4.7)\n",
      "Requirement already satisfied: kiwisolver>=1.0.1 in /home/ec2-user/anaconda3/envs/mxnet_p36/lib/python3.6/site-packages (from matplotlib>=2.2->seaborn) (1.3.1)\n",
      "Requirement already satisfied: cycler>=0.10 in /home/ec2-user/anaconda3/envs/mxnet_p36/lib/python3.6/site-packages (from matplotlib>=2.2->seaborn) (0.10.0)\n",
      "Requirement already satisfied: six in /home/ec2-user/anaconda3/envs/mxnet_p36/lib/python3.6/site-packages (from cycler>=0.10->matplotlib>=2.2->seaborn) (1.16.0)\n",
      "Requirement already satisfied: pytz>=2017.2 in /home/ec2-user/anaconda3/envs/mxnet_p36/lib/python3.6/site-packages (from pandas>=0.23->seaborn) (2021.3)\n",
      "\u001b[33mWARNING: You are using pip version 21.2.4; however, version 21.3.1 is available.\n",
      "You should consider upgrading via the '/home/ec2-user/anaconda3/envs/mxnet_p36/bin/python -m pip install --upgrade pip' command.\u001b[0m\n",
      "Requirement already satisfied: plotly in /home/ec2-user/anaconda3/envs/mxnet_p36/lib/python3.6/site-packages (5.3.1)\n",
      "Requirement already satisfied: tenacity>=6.2.0 in /home/ec2-user/anaconda3/envs/mxnet_p36/lib/python3.6/site-packages (from plotly) (8.0.1)\n",
      "Requirement already satisfied: six in /home/ec2-user/anaconda3/envs/mxnet_p36/lib/python3.6/site-packages (from plotly) (1.16.0)\n",
      "\u001b[33mWARNING: You are using pip version 21.2.4; however, version 21.3.1 is available.\n",
      "You should consider upgrading via the '/home/ec2-user/anaconda3/envs/mxnet_p36/bin/python -m pip install --upgrade pip' command.\u001b[0m\n",
      "Requirement already satisfied: opencv-python in /home/ec2-user/anaconda3/envs/mxnet_p36/lib/python3.6/site-packages (4.5.1.48)\n",
      "Requirement already satisfied: numpy>=1.13.3 in /home/ec2-user/anaconda3/envs/mxnet_p36/lib/python3.6/site-packages (from opencv-python) (1.19.5)\n",
      "\u001b[33mWARNING: You are using pip version 21.2.4; however, version 21.3.1 is available.\n",
      "You should consider upgrading via the '/home/ec2-user/anaconda3/envs/mxnet_p36/bin/python -m pip install --upgrade pip' command.\u001b[0m\n",
      "Requirement already satisfied: shap in /home/ec2-user/anaconda3/envs/mxnet_p36/lib/python3.6/site-packages (0.39.0)\n",
      "Requirement already satisfied: scipy in /home/ec2-user/anaconda3/envs/mxnet_p36/lib/python3.6/site-packages (from shap) (1.5.3)\n",
      "Requirement already satisfied: numba in /home/ec2-user/anaconda3/envs/mxnet_p36/lib/python3.6/site-packages (from shap) (0.52.0)\n",
      "Requirement already satisfied: tqdm>4.25.0 in /home/ec2-user/anaconda3/envs/mxnet_p36/lib/python3.6/site-packages (from shap) (4.62.3)\n",
      "Requirement already satisfied: cloudpickle in /home/ec2-user/anaconda3/envs/mxnet_p36/lib/python3.6/site-packages (from shap) (1.6.0)\n",
      "Requirement already satisfied: slicer==0.0.7 in /home/ec2-user/anaconda3/envs/mxnet_p36/lib/python3.6/site-packages (from shap) (0.0.7)\n",
      "Requirement already satisfied: pandas in /home/ec2-user/anaconda3/envs/mxnet_p36/lib/python3.6/site-packages (from shap) (1.1.5)\n",
      "Requirement already satisfied: scikit-learn in /home/ec2-user/anaconda3/envs/mxnet_p36/lib/python3.6/site-packages (from shap) (0.24.1)\n",
      "Requirement already satisfied: numpy in /home/ec2-user/anaconda3/envs/mxnet_p36/lib/python3.6/site-packages (from shap) (1.19.5)\n",
      "Requirement already satisfied: setuptools in /home/ec2-user/anaconda3/envs/mxnet_p36/lib/python3.6/site-packages (from numba->shap) (58.5.3)\n",
      "Requirement already satisfied: llvmlite<0.36,>=0.35.0 in /home/ec2-user/anaconda3/envs/mxnet_p36/lib/python3.6/site-packages (from numba->shap) (0.35.0)\n",
      "Requirement already satisfied: python-dateutil>=2.7.3 in /home/ec2-user/anaconda3/envs/mxnet_p36/lib/python3.6/site-packages (from pandas->shap) (2.8.2)\n",
      "Requirement already satisfied: pytz>=2017.2 in /home/ec2-user/anaconda3/envs/mxnet_p36/lib/python3.6/site-packages (from pandas->shap) (2021.3)\n",
      "Requirement already satisfied: six>=1.5 in /home/ec2-user/anaconda3/envs/mxnet_p36/lib/python3.6/site-packages (from python-dateutil>=2.7.3->pandas->shap) (1.16.0)\n",
      "Requirement already satisfied: joblib>=0.11 in /home/ec2-user/anaconda3/envs/mxnet_p36/lib/python3.6/site-packages (from scikit-learn->shap) (1.0.1)\n",
      "Requirement already satisfied: threadpoolctl>=2.0.0 in /home/ec2-user/anaconda3/envs/mxnet_p36/lib/python3.6/site-packages (from scikit-learn->shap) (2.1.0)\n",
      "\u001b[33mWARNING: You are using pip version 21.2.4; however, version 21.3.1 is available.\n",
      "You should consider upgrading via the '/home/ec2-user/anaconda3/envs/mxnet_p36/bin/python -m pip install --upgrade pip' command.\u001b[0m\n",
      "Requirement already satisfied: bokeh in /home/ec2-user/anaconda3/envs/mxnet_p36/lib/python3.6/site-packages (2.2.3)\n",
      "Requirement already satisfied: packaging>=16.8 in /home/ec2-user/anaconda3/envs/mxnet_p36/lib/python3.6/site-packages (from bokeh) (21.2)\n",
      "Requirement already satisfied: pillow>=7.1.0 in /home/ec2-user/anaconda3/envs/mxnet_p36/lib/python3.6/site-packages (from bokeh) (8.3.2)\n",
      "Requirement already satisfied: numpy>=1.11.3 in /home/ec2-user/anaconda3/envs/mxnet_p36/lib/python3.6/site-packages (from bokeh) (1.19.5)\n",
      "Requirement already satisfied: PyYAML>=3.10 in /home/ec2-user/anaconda3/envs/mxnet_p36/lib/python3.6/site-packages (from bokeh) (5.4.1)\n",
      "Requirement already satisfied: tornado>=5.1 in /home/ec2-user/anaconda3/envs/mxnet_p36/lib/python3.6/site-packages (from bokeh) (6.1)\n",
      "Requirement already satisfied: typing-extensions>=3.7.4 in /home/ec2-user/anaconda3/envs/mxnet_p36/lib/python3.6/site-packages (from bokeh) (3.10.0.2)\n",
      "Requirement already satisfied: python-dateutil>=2.1 in /home/ec2-user/anaconda3/envs/mxnet_p36/lib/python3.6/site-packages (from bokeh) (2.8.2)\n",
      "Requirement already satisfied: Jinja2>=2.7 in /home/ec2-user/anaconda3/envs/mxnet_p36/lib/python3.6/site-packages (from bokeh) (2.11.3)\n",
      "Requirement already satisfied: MarkupSafe>=0.23 in /home/ec2-user/anaconda3/envs/mxnet_p36/lib/python3.6/site-packages (from Jinja2>=2.7->bokeh) (1.1.1)\n",
      "Requirement already satisfied: pyparsing<3,>=2.0.2 in /home/ec2-user/anaconda3/envs/mxnet_p36/lib/python3.6/site-packages (from packaging>=16.8->bokeh) (2.4.7)\n",
      "Requirement already satisfied: six>=1.5 in /home/ec2-user/anaconda3/envs/mxnet_p36/lib/python3.6/site-packages (from python-dateutil>=2.1->bokeh) (1.16.0)\n",
      "\u001b[33mWARNING: You are using pip version 21.2.4; however, version 21.3.1 is available.\n",
      "You should consider upgrading via the '/home/ec2-user/anaconda3/envs/mxnet_p36/bin/python -m pip install --upgrade pip' command.\u001b[0m\n",
      "Requirement already satisfied: imageio in /home/ec2-user/anaconda3/envs/mxnet_p36/lib/python3.6/site-packages (2.9.0)\n",
      "Requirement already satisfied: numpy in /home/ec2-user/anaconda3/envs/mxnet_p36/lib/python3.6/site-packages (from imageio) (1.19.5)\n",
      "Requirement already satisfied: pillow in /home/ec2-user/anaconda3/envs/mxnet_p36/lib/python3.6/site-packages (from imageio) (8.3.2)\n",
      "\u001b[33mWARNING: You are using pip version 21.2.4; however, version 21.3.1 is available.\n",
      "You should consider upgrading via the '/home/ec2-user/anaconda3/envs/mxnet_p36/bin/python -m pip install --upgrade pip' command.\u001b[0m\n"
     ]
    }
   ],
   "source": [
    "# Install dependencies\n",
    "import sys\n",
    "\n",
    "!{sys.executable} -m pip install smdebug\n",
    "!{sys.executable} -m pip install seaborn\n",
    "!{sys.executable} -m pip install plotly\n",
    "!{sys.executable} -m pip install opencv-python\n",
    "!{sys.executable} -m pip install shap\n",
    "!{sys.executable} -m pip install bokeh\n",
    "!{sys.executable} -m pip install imageio"
   ]
  },
  {
   "cell_type": "code",
   "execution_count": 2,
   "metadata": {
    "nbpresent": {
     "id": "41d6f28b-3c7e-4d68-a8cb-4e063ec6fe27"
    }
   },
   "outputs": [],
   "source": [
    "import os\n",
    "import boto3\n",
    "import io\n",
    "import sagemaker\n",
    "import operator\n",
    "from botocore.exceptions import WaiterError\n",
    "from botocore.waiter import WaiterModel\n",
    "from botocore.waiter import create_waiter_with_client\n",
    "\n",
    "%matplotlib inline\n",
    "import s3fs\n",
    "import time\n",
    "import random\n",
    "import datetime\n",
    "import pandas as pd\n",
    "import numpy as np\n",
    "import mxnet as mx\n",
    "import matplotlib.pyplot as plt\n",
    "import matplotlib\n",
    "import seaborn as sns\n",
    "\n",
    "matplotlib.style.use(\"ggplot\")\n",
    "from ipywidgets import interact, interactive, fixed, interact_manual\n",
    "import ipywidgets as widgets\n",
    "from ipywidgets import IntSlider, FloatSlider, Checkbox\n",
    "\n",
    "import pickle, gzip, urllib, json\n",
    "import csv"
   ]
  },
  {
   "cell_type": "code",
   "execution_count": 3,
   "metadata": {},
   "outputs": [],
   "source": [
    "\n",
    "\n",
    "# Create custom waiter for the Redshift Data API to wait for finish execution of current SQL statement\n",
    "waiter_name = 'DataAPIExecution'\n",
    "#JSON\n",
    "delay=2\n",
    "max_attempts=3\n",
    "\n",
    "#Configure the waiter settings\n",
    "waiter_config = {\n",
    "  'version': 2,\n",
    "  'waiters': {\n",
    "    'DataAPIExecution': {\n",
    "      'operation': 'DescribeStatement',\n",
    "      'delay': delay,\n",
    "      'maxAttempts': max_attempts,\n",
    "      'acceptors': [\n",
    "        {\n",
    "          \"matcher\": \"path\",\n",
    "          \"expected\": \"FINISHED\",\n",
    "          \"argument\": \"Status\",\n",
    "          \"state\": \"success\"\n",
    "        },\n",
    "        {\n",
    "          \"matcher\": \"pathAny\",\n",
    "          \"expected\": [\"PICKED\",\"STARTED\",\"SUBMITTED\"],\n",
    "          \"argument\": \"Status\",\n",
    "          \"state\": \"retry\"\n",
    "        },\n",
    "        {\n",
    "          \"matcher\": \"pathAny\",\n",
    "          \"expected\": [\"FAILED\",\"ABORTED\"],\n",
    "          \"argument\": \"Status\",\n",
    "          \"state\": \"failure\"\n",
    "        }\n",
    "      ],\n",
    "    },\n",
    "  },\n",
    "}"
   ]
  },
  {
   "cell_type": "code",
   "execution_count": 4,
   "metadata": {},
   "outputs": [],
   "source": [
    "# set random seeds for reproducibility\n",
    "np.random.seed(42)\n",
    "random.seed(42)"
   ]
  },
  {
   "cell_type": "code",
   "execution_count": 5,
   "metadata": {},
   "outputs": [],
   "source": [
    "sagemaker_session = sagemaker.Session()"
   ]
  },
  {
   "cell_type": "code",
   "execution_count": 7,
   "metadata": {},
   "outputs": [
    {
     "name": "stdout",
     "output_type": "stream",
     "text": [
      "Data API client successfully loaded\n"
     ]
    }
   ],
   "source": [
    "#session = boto3.session.Session()\n",
    "#region = session.region_name\n",
    "\n",
    "# Creating the data api client\n",
    "#bc_session = s.get_session()\n",
    "\n",
    "#session = boto3.Session(\n",
    "#        botocore_session=bc_session,\n",
    "#        region_name=region\n",
    "#    )\n",
    "\n",
    "# Setup the client\n",
    "client_redshift = boto3.client(\"redshift-data\")\n",
    "print(\"Data API client successfully loaded\")"
   ]
  },
  {
   "cell_type": "markdown",
   "metadata": {},
   "source": [
    "Amazon SageMaker integrates seamlessly with Amazon S3. During the first step in creating the notebook, we specified a `AmazonSageMakerFullAccess` role for the notebook. That gives this notebook permission to access any Amazon S3 bucket in this AWS account with \"sagemaker\" in its name.\n",
    "\n",
    "The get_execution_role function retrieves the IAM role you created at the time you created your notebook instance."
   ]
  },
  {
   "cell_type": "code",
   "execution_count": 8,
   "metadata": {
    "nbpresent": {
     "id": "ba9ad1d9-659e-4fad-a0fd-0a23e7b56fc0"
    }
   },
   "outputs": [],
   "source": [
    "from sagemaker import get_execution_role\n",
    "\n",
    "role = get_execution_role()"
   ]
  },
  {
   "cell_type": "code",
   "execution_count": 9,
   "metadata": {},
   "outputs": [
    {
     "data": {
      "text/plain": [
       "'arn:aws:iam::711415738051:role/TeamRole'"
      ]
     },
     "execution_count": 9,
     "metadata": {},
     "output_type": "execute_result"
    }
   ],
   "source": [
    "role"
   ]
  },
  {
   "cell_type": "code",
   "execution_count": 10,
   "metadata": {},
   "outputs": [
    {
     "data": {
      "text/plain": [
       "['catalog_history',\n",
       " 'information_schema',\n",
       " 'pg_catalog',\n",
       " 'pg_internal',\n",
       " 'public']"
      ]
     },
     "execution_count": 10,
     "metadata": {},
     "output_type": "execute_result"
    }
   ],
   "source": [
    "client_redshift.list_schemas(\n",
    "        Database='workshopredshiftdb',\n",
    "        ClusterIdentifier='wsredshiftcluster-aefuqdzmefci',\n",
    "        DbUser='admin'\n",
    "    )['Schemas']"
   ]
  },
  {
   "cell_type": "code",
   "execution_count": 11,
   "metadata": {},
   "outputs": [
    {
     "data": {
      "text/plain": [
       "[{'name': 'sql_features',\n",
       "  'schema': 'information_schema',\n",
       "  'type': 'SYSTEM TABLE'},\n",
       " {'name': 'sql_implementation_info',\n",
       "  'schema': 'information_schema',\n",
       "  'type': 'SYSTEM TABLE'},\n",
       " {'name': 'sql_languages',\n",
       "  'schema': 'information_schema',\n",
       "  'type': 'SYSTEM TABLE'},\n",
       " {'name': 'sql_packages',\n",
       "  'schema': 'information_schema',\n",
       "  'type': 'SYSTEM TABLE'},\n",
       " {'name': 'sql_sizing',\n",
       "  'schema': 'information_schema',\n",
       "  'type': 'SYSTEM TABLE'},\n",
       " {'name': 'sql_sizing_profiles',\n",
       "  'schema': 'information_schema',\n",
       "  'type': 'SYSTEM TABLE'},\n",
       " {'name': 'padb_config_harvest',\n",
       "  'schema': 'pg_catalog',\n",
       "  'type': 'SYSTEM TABLE'},\n",
       " {'name': 'pg_aggregate', 'schema': 'pg_catalog', 'type': 'SYSTEM TABLE'},\n",
       " {'name': 'pg_am', 'schema': 'pg_catalog', 'type': 'SYSTEM TABLE'},\n",
       " {'name': 'pg_amop', 'schema': 'pg_catalog', 'type': 'SYSTEM TABLE'},\n",
       " {'name': 'pg_amproc', 'schema': 'pg_catalog', 'type': 'SYSTEM TABLE'},\n",
       " {'name': 'pg_attrdef', 'schema': 'pg_catalog', 'type': 'SYSTEM TABLE'},\n",
       " {'name': 'pg_attrdef_journal',\n",
       "  'schema': 'pg_catalog',\n",
       "  'type': 'SYSTEM TABLE'},\n",
       " {'name': 'pg_attribute', 'schema': 'pg_catalog', 'type': 'SYSTEM TABLE'},\n",
       " {'name': 'pg_attribute_acl', 'schema': 'pg_catalog', 'type': 'SYSTEM TABLE'},\n",
       " {'name': 'pg_attribute_journal',\n",
       "  'schema': 'pg_catalog',\n",
       "  'type': 'SYSTEM TABLE'},\n",
       " {'name': 'pg_bar_ddllog', 'schema': 'pg_catalog', 'type': 'SYSTEM TABLE'},\n",
       " {'name': 'pg_bar_repos', 'schema': 'pg_catalog', 'type': 'SYSTEM TABLE'},\n",
       " {'name': 'pg_bar_state', 'schema': 'pg_catalog', 'type': 'SYSTEM TABLE'},\n",
       " {'name': 'pg_cast', 'schema': 'pg_catalog', 'type': 'SYSTEM TABLE'},\n",
       " {'name': 'pg_class', 'schema': 'pg_catalog', 'type': 'SYSTEM TABLE'},\n",
       " {'name': 'pg_class_extended', 'schema': 'pg_catalog', 'type': 'SYSTEM TABLE'},\n",
       " {'name': 'pg_class_extended_journal',\n",
       "  'schema': 'pg_catalog',\n",
       "  'type': 'SYSTEM TABLE'},\n",
       " {'name': 'pg_class_journal', 'schema': 'pg_catalog', 'type': 'SYSTEM TABLE'},\n",
       " {'name': 'pg_class_stage', 'schema': 'pg_catalog', 'type': 'SYSTEM TABLE'},\n",
       " {'name': 'pg_conf', 'schema': 'pg_catalog', 'type': 'SYSTEM TABLE'},\n",
       " {'name': 'pg_constraint', 'schema': 'pg_catalog', 'type': 'SYSTEM TABLE'},\n",
       " {'name': 'pg_constraint_journal',\n",
       "  'schema': 'pg_catalog',\n",
       "  'type': 'SYSTEM TABLE'},\n",
       " {'name': 'pg_conversion', 'schema': 'pg_catalog', 'type': 'SYSTEM TABLE'},\n",
       " {'name': 'pg_database', 'schema': 'pg_catalog', 'type': 'SYSTEM TABLE'},\n",
       " {'name': 'pg_database_extended',\n",
       "  'schema': 'pg_catalog',\n",
       "  'type': 'SYSTEM TABLE'},\n",
       " {'name': 'pg_datashare', 'schema': 'pg_catalog', 'type': 'SYSTEM TABLE'},\n",
       " {'name': 'pg_datashare_consumers',\n",
       "  'schema': 'pg_catalog',\n",
       "  'type': 'SYSTEM TABLE'},\n",
       " {'name': 'pg_datashare_objects',\n",
       "  'schema': 'pg_catalog',\n",
       "  'type': 'SYSTEM TABLE'},\n",
       " {'name': 'pg_default_acl', 'schema': 'pg_catalog', 'type': 'SYSTEM TABLE'},\n",
       " {'name': 'pg_depend', 'schema': 'pg_catalog', 'type': 'SYSTEM TABLE'},\n",
       " {'name': 'pg_depend_journal', 'schema': 'pg_catalog', 'type': 'SYSTEM TABLE'},\n",
       " {'name': 'pg_description', 'schema': 'pg_catalog', 'type': 'SYSTEM TABLE'},\n",
       " {'name': 'pg_external_database',\n",
       "  'schema': 'pg_catalog',\n",
       "  'type': 'SYSTEM TABLE'},\n",
       " {'name': 'pg_external_schema',\n",
       "  'schema': 'pg_catalog',\n",
       "  'type': 'SYSTEM TABLE'},\n",
       " {'name': 'pg_group', 'schema': 'pg_catalog', 'type': 'SYSTEM TABLE'},\n",
       " {'name': 'pg_group_extended', 'schema': 'pg_catalog', 'type': 'SYSTEM TABLE'},\n",
       " {'name': 'pg_highwatermark', 'schema': 'pg_catalog', 'type': 'SYSTEM TABLE'},\n",
       " {'name': 'pg_iam_permission', 'schema': 'pg_catalog', 'type': 'SYSTEM TABLE'},\n",
       " {'name': 'pg_identity', 'schema': 'pg_catalog', 'type': 'SYSTEM TABLE'},\n",
       " {'name': 'pg_index', 'schema': 'pg_catalog', 'type': 'SYSTEM TABLE'},\n",
       " {'name': 'pg_inherits', 'schema': 'pg_catalog', 'type': 'SYSTEM TABLE'},\n",
       " {'name': 'pg_language', 'schema': 'pg_catalog', 'type': 'SYSTEM TABLE'},\n",
       " {'name': 'pg_largeobject', 'schema': 'pg_catalog', 'type': 'SYSTEM TABLE'},\n",
       " {'name': 'pg_library', 'schema': 'pg_catalog', 'type': 'SYSTEM TABLE'},\n",
       " {'name': 'pg_listener', 'schema': 'pg_catalog', 'type': 'SYSTEM TABLE'},\n",
       " {'name': 'pg_ml_model', 'schema': 'pg_catalog', 'type': 'SYSTEM TABLE'},\n",
       " {'name': 'pg_namespace', 'schema': 'pg_catalog', 'type': 'SYSTEM TABLE'},\n",
       " {'name': 'pg_namespace_extended',\n",
       "  'schema': 'pg_catalog',\n",
       "  'type': 'SYSTEM TABLE'},\n",
       " {'name': 'pg_opclass', 'schema': 'pg_catalog', 'type': 'SYSTEM TABLE'},\n",
       " {'name': 'pg_operator', 'schema': 'pg_catalog', 'type': 'SYSTEM TABLE'},\n",
       " {'name': 'pg_permission', 'schema': 'pg_catalog', 'type': 'SYSTEM TABLE'},\n",
       " {'name': 'pg_permission_roles',\n",
       "  'schema': 'pg_catalog',\n",
       "  'type': 'SYSTEM TABLE'},\n",
       " {'name': 'pg_permission_users',\n",
       "  'schema': 'pg_catalog',\n",
       "  'type': 'SYSTEM TABLE'},\n",
       " {'name': 'pg_proc', 'schema': 'pg_catalog', 'type': 'SYSTEM TABLE'},\n",
       " {'name': 'pg_proc_extended', 'schema': 'pg_catalog', 'type': 'SYSTEM TABLE'},\n",
       " {'name': 'pg_resize', 'schema': 'pg_catalog', 'type': 'SYSTEM TABLE'},\n",
       " {'name': 'pg_rewrite', 'schema': 'pg_catalog', 'type': 'SYSTEM TABLE'},\n",
       " {'name': 'pg_role', 'schema': 'pg_catalog', 'type': 'SYSTEM TABLE'},\n",
       " {'name': 'pg_role_chain', 'schema': 'pg_catalog', 'type': 'SYSTEM TABLE'},\n",
       " {'name': 'pg_role_users', 'schema': 'pg_catalog', 'type': 'SYSTEM TABLE'},\n",
       " {'name': 'pg_shadow', 'schema': 'pg_catalog', 'type': 'SYSTEM TABLE'},\n",
       " {'name': 'pg_shadow_extended',\n",
       "  'schema': 'pg_catalog',\n",
       "  'type': 'SYSTEM TABLE'},\n",
       " {'name': 'pg_shdepend', 'schema': 'pg_catalog', 'type': 'SYSTEM TABLE'},\n",
       " {'name': 'pg_statistic', 'schema': 'pg_catalog', 'type': 'SYSTEM TABLE'},\n",
       " {'name': 'pg_statistic_indicator',\n",
       "  'schema': 'pg_catalog',\n",
       "  'type': 'SYSTEM TABLE'},\n",
       " {'name': 'pg_statistic_journal',\n",
       "  'schema': 'pg_catalog',\n",
       "  'type': 'SYSTEM TABLE'},\n",
       " {'name': 'pg_statistic_multicol',\n",
       "  'schema': 'pg_catalog',\n",
       "  'type': 'SYSTEM TABLE'},\n",
       " {'name': 'pg_tablespace', 'schema': 'pg_catalog', 'type': 'SYSTEM TABLE'},\n",
       " {'name': 'pg_test', 'schema': 'pg_catalog', 'type': 'SYSTEM TABLE'},\n",
       " {'name': 'pg_transaction', 'schema': 'pg_catalog', 'type': 'SYSTEM TABLE'},\n",
       " {'name': 'pg_trigger', 'schema': 'pg_catalog', 'type': 'SYSTEM TABLE'},\n",
       " {'name': 'pg_type', 'schema': 'pg_catalog', 'type': 'SYSTEM TABLE'},\n",
       " {'name': 'pg_udf', 'schema': 'pg_catalog', 'type': 'SYSTEM TABLE'},\n",
       " {'name': 'pg_unique_identity',\n",
       "  'schema': 'pg_catalog',\n",
       "  'type': 'SYSTEM TABLE'},\n",
       " {'name': 'pg_user_roles', 'schema': 'pg_catalog', 'type': 'SYSTEM TABLE'},\n",
       " {'name': 'stcs_abort_idle', 'schema': 'pg_catalog', 'type': 'SYSTEM TABLE'},\n",
       " {'name': 'stcs_aggr', 'schema': 'pg_catalog', 'type': 'SYSTEM TABLE'},\n",
       " {'name': 'stcs_aggr_distinct',\n",
       "  'schema': 'pg_catalog',\n",
       "  'type': 'SYSTEM TABLE'},\n",
       " {'name': 'stcs_alert_event_log',\n",
       "  'schema': 'pg_catalog',\n",
       "  'type': 'SYSTEM TABLE'},\n",
       " {'name': 'stcs_alert_messages',\n",
       "  'schema': 'pg_catalog',\n",
       "  'type': 'SYSTEM TABLE'},\n",
       " {'name': 'stcs_alter_column_encode_events',\n",
       "  'schema': 'pg_catalog',\n",
       "  'type': 'SYSTEM TABLE'},\n",
       " {'name': 'stcs_alter_column_events',\n",
       "  'schema': 'pg_catalog',\n",
       "  'type': 'SYSTEM TABLE'},\n",
       " {'name': 'stcs_alter_dist_sort',\n",
       "  'schema': 'pg_catalog',\n",
       "  'type': 'SYSTEM TABLE'},\n",
       " {'name': 'stcs_alter_sortkey_events',\n",
       "  'schema': 'pg_catalog',\n",
       "  'type': 'SYSTEM TABLE'},\n",
       " {'name': 'stcs_analyze', 'schema': 'pg_catalog', 'type': 'SYSTEM TABLE'},\n",
       " {'name': 'stcs_analyze_compression',\n",
       "  'schema': 'pg_catalog',\n",
       "  'type': 'SYSTEM TABLE'},\n",
       " {'name': 'stcs_aqua_pushdown',\n",
       "  'schema': 'pg_catalog',\n",
       "  'type': 'SYSTEM TABLE'},\n",
       " {'name': 'stcs_aqua_requests',\n",
       "  'schema': 'pg_catalog',\n",
       "  'type': 'SYSTEM TABLE'},\n",
       " {'name': 'stcs_arcadia_billing_log',\n",
       "  'schema': 'pg_catalog',\n",
       "  'type': 'SYSTEM TABLE'},\n",
       " {'name': 'stcs_arcadia_concurrency_scaling_usage',\n",
       "  'schema': 'pg_catalog',\n",
       "  'type': 'SYSTEM TABLE'},\n",
       " {'name': 'stcs_arcadia_concurrency_scaling_usage_error',\n",
       "  'schema': 'pg_catalog',\n",
       "  'type': 'SYSTEM TABLE'},\n",
       " {'name': 'stcs_arcadia_main_usage',\n",
       "  'schema': 'pg_catalog',\n",
       "  'type': 'SYSTEM TABLE'},\n",
       " {'name': 'stcs_arcadia_main_usage_error',\n",
       "  'schema': 'pg_catalog',\n",
       "  'type': 'SYSTEM TABLE'},\n",
       " {'name': 'stcs_auto_alter_worker_event',\n",
       "  'schema': 'pg_catalog',\n",
       "  'type': 'SYSTEM TABLE'},\n",
       " {'name': 'stcs_auto_dispatcher_wlm_occupancy',\n",
       "  'schema': 'pg_catalog',\n",
       "  'type': 'SYSTEM TABLE'},\n",
       " {'name': 'stcs_auto_maintenance',\n",
       "  'schema': 'pg_catalog',\n",
       "  'type': 'SYSTEM TABLE'},\n",
       " {'name': 'stcs_auto_maintenance_worker',\n",
       "  'schema': 'pg_catalog',\n",
       "  'type': 'SYSTEM TABLE'},\n",
       " {'name': 'stcs_auto_worker_levels',\n",
       "  'schema': 'pg_catalog',\n",
       "  'type': 'SYSTEM TABLE'},\n",
       " {'name': 'stcs_autovacuum_detail',\n",
       "  'schema': 'pg_catalog',\n",
       "  'type': 'SYSTEM TABLE'},\n",
       " {'name': 'stcs_autovacuum_skip_reason',\n",
       "  'schema': 'pg_catalog',\n",
       "  'type': 'SYSTEM TABLE'},\n",
       " {'name': 'stcs_awsclient_error',\n",
       "  'schema': 'pg_catalog',\n",
       "  'type': 'SYSTEM TABLE'},\n",
       " {'name': 'stcs_background_monitor',\n",
       "  'schema': 'pg_catalog',\n",
       "  'type': 'SYSTEM TABLE'},\n",
       " {'name': 'stcs_backtrace', 'schema': 'pg_catalog', 'type': 'SYSTEM TABLE'},\n",
       " {'name': 'stcs_backup', 'schema': 'pg_catalog', 'type': 'SYSTEM TABLE'},\n",
       " {'name': 'stcs_backup_compute',\n",
       "  'schema': 'pg_catalog',\n",
       "  'type': 'SYSTEM TABLE'},\n",
       " {'name': 'stcs_backup_leader',\n",
       "  'schema': 'pg_catalog',\n",
       "  'type': 'SYSTEM TABLE'},\n",
       " {'name': 'stcs_bcast', 'schema': 'pg_catalog', 'type': 'SYSTEM TABLE'},\n",
       " {'name': 'stcs_bkg_compile_info',\n",
       "  'schema': 'pg_catalog',\n",
       "  'type': 'SYSTEM TABLE'},\n",
       " {'name': 'stcs_blf_efficiency',\n",
       "  'schema': 'pg_catalog',\n",
       "  'type': 'SYSTEM TABLE'},\n",
       " {'name': 'stcs_block_access_errors',\n",
       "  'schema': 'pg_catalog',\n",
       "  'type': 'SYSTEM TABLE'},\n",
       " {'name': 'stcs_block_integrity_error',\n",
       "  'schema': 'pg_catalog',\n",
       "  'type': 'SYSTEM TABLE'},\n",
       " {'name': 'stcs_block_io_metrics',\n",
       "  'schema': 'pg_catalog',\n",
       "  'type': 'SYSTEM TABLE'},\n",
       " {'name': 'stcs_block_needs_recovery',\n",
       "  'schema': 'pg_catalog',\n",
       "  'type': 'SYSTEM TABLE'},\n",
       " {'name': 'stcs_block_pins', 'schema': 'pg_catalog', 'type': 'SYSTEM TABLE'},\n",
       " {'name': 'stcs_block_priority_based_rereplication',\n",
       "  'schema': 'pg_catalog',\n",
       "  'type': 'SYSTEM TABLE'},\n",
       " {'name': 'stcs_blocklist', 'schema': 'pg_catalog', 'type': 'SYSTEM TABLE'},\n",
       " {'name': 'stcs_bootstrap', 'schema': 'pg_catalog', 'type': 'SYSTEM TABLE'},\n",
       " {'name': 'stcs_burst_async_mark',\n",
       "  'schema': 'pg_catalog',\n",
       "  'type': 'SYSTEM TABLE'},\n",
       " {'name': 'stcs_burst_connection',\n",
       "  'schema': 'pg_catalog',\n",
       "  'type': 'SYSTEM TABLE'},\n",
       " {'name': 'stcs_burst_manager_personalization',\n",
       "  'schema': 'pg_catalog',\n",
       "  'type': 'SYSTEM TABLE'},\n",
       " {'name': 'stcs_burst_manager_refresh',\n",
       "  'schema': 'pg_catalog',\n",
       "  'type': 'SYSTEM TABLE'},\n",
       " {'name': 'stcs_burst_prepare',\n",
       "  'schema': 'pg_catalog',\n",
       "  'type': 'SYSTEM TABLE'},\n",
       " {'name': 'stcs_burst_query_execution',\n",
       "  'schema': 'pg_catalog',\n",
       "  'type': 'SYSTEM TABLE'},\n",
       " {'name': 'stcs_burst_refresh',\n",
       "  'schema': 'pg_catalog',\n",
       "  'type': 'SYSTEM TABLE'},\n",
       " {'name': 'stcs_burst_service_client',\n",
       "  'schema': 'pg_catalog',\n",
       "  'type': 'SYSTEM TABLE'},\n",
       " {'name': 'stcs_burst_write_block_header_trace',\n",
       "  'schema': 'pg_catalog',\n",
       "  'type': 'SYSTEM TABLE'},\n",
       " {'name': 'stcs_burst_write_exec',\n",
       "  'schema': 'pg_catalog',\n",
       "  'type': 'SYSTEM TABLE'},\n",
       " {'name': 'stcs_burst_write_query_event',\n",
       "  'schema': 'pg_catalog',\n",
       "  'type': 'SYSTEM TABLE'},\n",
       " {'name': 'stcs_cache_policy_stats',\n",
       "  'schema': 'pg_catalog',\n",
       "  'type': 'SYSTEM TABLE'},\n",
       " {'name': 'stcs_catalog_bloat',\n",
       "  'schema': 'pg_catalog',\n",
       "  'type': 'SYSTEM TABLE'},\n",
       " {'name': 'stcs_catalog_rebuild_info',\n",
       "  'schema': 'pg_catalog',\n",
       "  'type': 'SYSTEM TABLE'},\n",
       " {'name': 'stcs_catalog_rebuild_worker',\n",
       "  'schema': 'pg_catalog',\n",
       "  'type': 'SYSTEM TABLE'},\n",
       " {'name': 'stcs_catalog_scan_metrics',\n",
       "  'schema': 'pg_catalog',\n",
       "  'type': 'SYSTEM TABLE'},\n",
       " {'name': 'stcs_clear_reps', 'schema': 'pg_catalog', 'type': 'SYSTEM TABLE'},\n",
       " {'name': 'stcs_client_write_timings',\n",
       "  'schema': 'pg_catalog',\n",
       "  'type': 'SYSTEM TABLE'},\n",
       " {'name': 'stcs_cmd_requires_top_xact',\n",
       "  'schema': 'pg_catalog',\n",
       "  'type': 'SYSTEM TABLE'},\n",
       " {'name': 'stcs_codegen', 'schema': 'pg_catalog', 'type': 'SYSTEM TABLE'},\n",
       " {'name': 'stcs_column_errors',\n",
       "  'schema': 'pg_catalog',\n",
       "  'type': 'SYSTEM TABLE'},\n",
       " {'name': 'stcs_column_stats', 'schema': 'pg_catalog', 'type': 'SYSTEM TABLE'},\n",
       " {'name': 'stcs_comm_capture', 'schema': 'pg_catalog', 'type': 'SYSTEM TABLE'},\n",
       " {'name': 'stcs_comm_diag', 'schema': 'pg_catalog', 'type': 'SYSTEM TABLE'},\n",
       " {'name': 'stcs_comm_diag_errors',\n",
       "  'schema': 'pg_catalog',\n",
       "  'type': 'SYSTEM TABLE'},\n",
       " {'name': 'stcs_comm_excess', 'schema': 'pg_catalog', 'type': 'SYSTEM TABLE'},\n",
       " {'name': 'stcs_comm_integrity_error',\n",
       "  'schema': 'pg_catalog',\n",
       "  'type': 'SYSTEM TABLE'},\n",
       " {'name': 'stcs_comm_pkt_latency',\n",
       "  'schema': 'pg_catalog',\n",
       "  'type': 'SYSTEM TABLE'},\n",
       " {'name': 'stcs_comm_pkt_oob_count',\n",
       "  'schema': 'pg_catalog',\n",
       "  'type': 'SYSTEM TABLE'},\n",
       " {'name': 'stcs_comm_pkt_sent_count',\n",
       "  'schema': 'pg_catalog',\n",
       "  'type': 'SYSTEM TABLE'},\n",
       " {'name': 'stcs_comm_rexmit', 'schema': 'pg_catalog', 'type': 'SYSTEM TABLE'},\n",
       " {'name': 'stcs_comm_rexmit_histogram',\n",
       "  'schema': 'pg_catalog',\n",
       "  'type': 'SYSTEM TABLE'},\n",
       " {'name': 'stcs_command_result',\n",
       "  'schema': 'pg_catalog',\n",
       "  'type': 'SYSTEM TABLE'},\n",
       " {'name': 'stcs_command_start',\n",
       "  'schema': 'pg_catalog',\n",
       "  'type': 'SYSTEM TABLE'},\n",
       " {'name': 'stcs_commit_checkpoint',\n",
       "  'schema': 'pg_catalog',\n",
       "  'type': 'SYSTEM TABLE'},\n",
       " {'name': 'stcs_commit_internal_stats',\n",
       "  'schema': 'pg_catalog',\n",
       "  'type': 'SYSTEM TABLE'},\n",
       " {'name': 'stcs_commit_regions',\n",
       "  'schema': 'pg_catalog',\n",
       "  'type': 'SYSTEM TABLE'},\n",
       " {'name': 'stcs_commit_stats', 'schema': 'pg_catalog', 'type': 'SYSTEM TABLE'},\n",
       " {'name': 'stcs_committed_txn',\n",
       "  'schema': 'pg_catalog',\n",
       "  'type': 'SYSTEM TABLE'},\n",
       " {'name': 'stcs_compile_info', 'schema': 'pg_catalog', 'type': 'SYSTEM TABLE'},\n",
       " {'name': 'stcs_compile_service',\n",
       "  'schema': 'pg_catalog',\n",
       "  'type': 'SYSTEM TABLE'},\n",
       " {'name': 'stcs_complyze', 'schema': 'pg_catalog', 'type': 'SYSTEM TABLE'},\n",
       " {'name': 'stcs_concurrency_scaling_query_mapping',\n",
       "  'schema': 'pg_catalog',\n",
       "  'type': 'SYSTEM TABLE'},\n",
       " {'name': 'stcs_concurrency_scaling_usage',\n",
       "  'schema': 'pg_catalog',\n",
       "  'type': 'SYSTEM TABLE'},\n",
       " {'name': 'stcs_concurrency_scaling_usage_error',\n",
       "  'schema': 'pg_catalog',\n",
       "  'type': 'SYSTEM TABLE'},\n",
       " {'name': 'stcs_config', 'schema': 'pg_catalog', 'type': 'SYSTEM TABLE'},\n",
       " {'name': 'stcs_config_chooser',\n",
       "  'schema': 'pg_catalog',\n",
       "  'type': 'SYSTEM TABLE'},\n",
       " {'name': 'stcs_config_history',\n",
       "  'schema': 'pg_catalog',\n",
       "  'type': 'SYSTEM TABLE'},\n",
       " {'name': 'stcs_connection_log',\n",
       "  'schema': 'pg_catalog',\n",
       "  'type': 'SYSTEM TABLE'},\n",
       " {'name': 'stcs_consistency', 'schema': 'pg_catalog', 'type': 'SYSTEM TABLE'},\n",
       " {'name': 'stcs_core_stat', 'schema': 'pg_catalog', 'type': 'SYSTEM TABLE'},\n",
       " {'name': 'stcs_cost_control_updates',\n",
       "  'schema': 'pg_catalog',\n",
       "  'type': 'SYSTEM TABLE'},\n",
       " {'name': 'stcs_cqilog', 'schema': 'pg_catalog', 'type': 'SYSTEM TABLE'},\n",
       " {'name': 'stcs_create_replication',\n",
       "  'schema': 'pg_catalog',\n",
       "  'type': 'SYSTEM TABLE'},\n",
       " {'name': 'stcs_dag_cleanup', 'schema': 'pg_catalog', 'type': 'SYSTEM TABLE'},\n",
       " {'name': 'stcs_datashare_changes_consumer',\n",
       "  'schema': 'pg_catalog',\n",
       "  'type': 'SYSTEM TABLE'},\n",
       " {'name': 'stcs_datashare_changes_producer',\n",
       "  'schema': 'pg_catalog',\n",
       "  'type': 'SYSTEM TABLE'},\n",
       " {'name': 'stcs_datashare_dsms',\n",
       "  'schema': 'pg_catalog',\n",
       "  'type': 'SYSTEM TABLE'},\n",
       " {'name': 'stcs_datashare_request_consumer',\n",
       "  'schema': 'pg_catalog',\n",
       "  'type': 'SYSTEM TABLE'},\n",
       " {'name': 'stcs_datashare_request_producer',\n",
       "  'schema': 'pg_catalog',\n",
       "  'type': 'SYSTEM TABLE'},\n",
       " {'name': 'stcs_datasharing_log',\n",
       "  'schema': 'pg_catalog',\n",
       "  'type': 'SYSTEM TABLE'},\n",
       " {'name': 'stcs_ddltext', 'schema': 'pg_catalog', 'type': 'SYSTEM TABLE'},\n",
       " {'name': 'stcs_dead_tuples_stats',\n",
       "  'schema': 'pg_catalog',\n",
       "  'type': 'SYSTEM TABLE'},\n",
       " {'name': 'stcs_default_iam_usage',\n",
       "  'schema': 'pg_catalog',\n",
       "  'type': 'SYSTEM TABLE'},\n",
       " {'name': 'stcs_delete', 'schema': 'pg_catalog', 'type': 'SYSTEM TABLE'},\n",
       " {'name': 'stcs_delete_tag_throttle',\n",
       "  'schema': 'pg_catalog',\n",
       "  'type': 'SYSTEM TABLE'},\n",
       " {'name': 'stcs_disk_cache_megablock_stats',\n",
       "  'schema': 'pg_catalog',\n",
       "  'type': 'SYSTEM TABLE'},\n",
       " {'name': 'stcs_disk_cache_stats',\n",
       "  'schema': 'pg_catalog',\n",
       "  'type': 'SYSTEM TABLE'},\n",
       " {'name': 'stcs_disk_cache_write',\n",
       "  'schema': 'pg_catalog',\n",
       "  'type': 'SYSTEM TABLE'},\n",
       " {'name': 'stcs_disk_extent_splits',\n",
       "  'schema': 'pg_catalog',\n",
       "  'type': 'SYSTEM TABLE'},\n",
       " {'name': 'stcs_disk_failures',\n",
       "  'schema': 'pg_catalog',\n",
       "  'type': 'SYSTEM TABLE'},\n",
       " {'name': 'stcs_disk_full_diag',\n",
       "  'schema': 'pg_catalog',\n",
       "  'type': 'SYSTEM TABLE'},\n",
       " {'name': 'stcs_disk_speeds', 'schema': 'pg_catalog', 'type': 'SYSTEM TABLE'},\n",
       " {'name': 'stcs_disk_topology',\n",
       "  'schema': 'pg_catalog',\n",
       "  'type': 'SYSTEM TABLE'},\n",
       " {'name': 'stcs_diskman_query_block_read_stats',\n",
       "  'schema': 'pg_catalog',\n",
       "  'type': 'SYSTEM TABLE'},\n",
       " {'name': 'stcs_disks_blocks_stats',\n",
       "  'schema': 'pg_catalog',\n",
       "  'type': 'SYSTEM TABLE'},\n",
       " {'name': 'stcs_dist', 'schema': 'pg_catalog', 'type': 'SYSTEM TABLE'},\n",
       " {'name': 'stcs_dropped_replication',\n",
       "  'schema': 'pg_catalog',\n",
       "  'type': 'SYSTEM TABLE'},\n",
       " {'name': 'stcs_dynamodb_error',\n",
       "  'schema': 'pg_catalog',\n",
       "  'type': 'SYSTEM TABLE'},\n",
       " {'name': 'stcs_dynamodb_restore',\n",
       "  'schema': 'pg_catalog',\n",
       "  'type': 'SYSTEM TABLE'},\n",
       " {'name': 'stcs_error', 'schema': 'pg_catalog', 'type': 'SYSTEM TABLE'},\n",
       " {'name': 'stcs_event_trace', 'schema': 'pg_catalog', 'type': 'SYSTEM TABLE'},\n",
       " {'name': 'stcs_exec_state', 'schema': 'pg_catalog', 'type': 'SYSTEM TABLE'},\n",
       " {'name': 'stcs_explain', 'schema': 'pg_catalog', 'type': 'SYSTEM TABLE'},\n",
       " {'name': 'stcs_external_catalog_calls',\n",
       "  'schema': 'pg_catalog',\n",
       "  'type': 'SYSTEM TABLE'},\n",
       " {'name': 'stcs_fabric_stats', 'schema': 'pg_catalog', 'type': 'SYSTEM TABLE'},\n",
       " {'name': 'stcs_federated_calls',\n",
       "  'schema': 'pg_catalog',\n",
       "  'type': 'SYSTEM TABLE'},\n",
       " {'name': 'stcs_federated_query',\n",
       "  'schema': 'pg_catalog',\n",
       "  'type': 'SYSTEM TABLE'},\n",
       " {'name': 'stcs_federated_trace',\n",
       "  'schema': 'pg_catalog',\n",
       "  'type': 'SYSTEM TABLE'},\n",
       " {'name': 'stcs_fetchers', 'schema': 'pg_catalog', 'type': 'SYSTEM TABLE'},\n",
       " {'name': 'stcs_file_scan', 'schema': 'pg_catalog', 'type': 'SYSTEM TABLE'},\n",
       " {'name': 'stcs_freed_disk_addrs',\n",
       "  'schema': 'pg_catalog',\n",
       "  'type': 'SYSTEM TABLE'},\n",
       " {'name': 'stcs_function_column_linker',\n",
       "  'schema': 'pg_catalog',\n",
       "  'type': 'SYSTEM TABLE'},\n",
       " {'name': 'stcs_ghost_buffer_stats',\n",
       "  'schema': 'pg_catalog',\n",
       "  'type': 'SYSTEM TABLE'},\n",
       " {'name': 'stcs_ght_hash_partitions',\n",
       "  'schema': 'pg_catalog',\n",
       "  'type': 'SYSTEM TABLE'},\n",
       " {'name': 'stcs_guc', 'schema': 'pg_catalog', 'type': 'SYSTEM TABLE'},\n",
       " {'name': 'stcs_hash', 'schema': 'pg_catalog', 'type': 'SYSTEM TABLE'},\n",
       " {'name': 'stcs_hash_partitions',\n",
       "  'schema': 'pg_catalog',\n",
       "  'type': 'SYSTEM TABLE'},\n",
       " {'name': 'stcs_hashjoin', 'schema': 'pg_catalog', 'type': 'SYSTEM TABLE'},\n",
       " {'name': 'stcs_hashjoin_partitions',\n",
       "  'schema': 'pg_catalog',\n",
       "  'type': 'SYSTEM TABLE'},\n",
       " {'name': 'stcs_hdr_integrity_error',\n",
       "  'schema': 'pg_catalog',\n",
       "  'type': 'SYSTEM TABLE'},\n",
       " {'name': 'stcs_hllsketch_column_linker',\n",
       "  'schema': 'pg_catalog',\n",
       "  'type': 'SYSTEM TABLE'},\n",
       " {'name': 'stcs_hllsketch_function',\n",
       "  'schema': 'pg_catalog',\n",
       "  'type': 'SYSTEM TABLE'},\n",
       " {'name': 'stcs_hllsketch_query',\n",
       "  'schema': 'pg_catalog',\n",
       "  'type': 'SYSTEM TABLE'},\n",
       " {'name': 'stcs_hot_tables_qpd_stats',\n",
       "  'schema': 'pg_catalog',\n",
       "  'type': 'SYSTEM TABLE'},\n",
       " {'name': 'stcs_inc_commit_stats_instrumentation',\n",
       "  'schema': 'pg_catalog',\n",
       "  'type': 'SYSTEM TABLE'},\n",
       " {'name': 'stcs_incremental_resize_state',\n",
       "  'schema': 'pg_catalog',\n",
       "  'type': 'SYSTEM TABLE'},\n",
       " {'name': 'stcs_inflight', 'schema': 'pg_catalog', 'type': 'SYSTEM TABLE'},\n",
       " {'name': 'stcs_insert', 'schema': 'pg_catalog', 'type': 'SYSTEM TABLE'},\n",
       " {'name': 'stcs_internal_query_details',\n",
       "  'schema': 'pg_catalog',\n",
       "  'type': 'SYSTEM TABLE'},\n",
       " {'name': 'stcs_invalid_replication',\n",
       "  'schema': 'pg_catalog',\n",
       "  'type': 'SYSTEM TABLE'},\n",
       " {'name': 'stcs_invariant', 'schema': 'pg_catalog', 'type': 'SYSTEM TABLE'},\n",
       " {'name': 'stcs_io_error', 'schema': 'pg_catalog', 'type': 'SYSTEM TABLE'},\n",
       " {'name': 'stcs_io_iscsi_monitor',\n",
       "  'schema': 'pg_catalog',\n",
       "  'type': 'SYSTEM TABLE'},\n",
       " {'name': 'stcs_io_perf', 'schema': 'pg_catalog', 'type': 'SYSTEM TABLE'},\n",
       " {'name': 'stcs_io_stat', 'schema': 'pg_catalog', 'type': 'SYSTEM TABLE'},\n",
       " {'name': 'stcs_lambda_client',\n",
       "  'schema': 'pg_catalog',\n",
       "  'type': 'SYSTEM TABLE'},\n",
       " {'name': 'stcs_lambda_invocation_error',\n",
       "  'schema': 'pg_catalog',\n",
       "  'type': 'SYSTEM TABLE'},\n",
       " {'name': 'stcs_lbc_events', 'schema': 'pg_catalog', 'type': 'SYSTEM TABLE'},\n",
       " {'name': 'stcs_leader_control',\n",
       "  'schema': 'pg_catalog',\n",
       "  'type': 'SYSTEM TABLE'},\n",
       " {'name': 'stcs_leader_snapshot',\n",
       "  'schema': 'pg_catalog',\n",
       "  'type': 'SYSTEM TABLE'},\n",
       " {'name': 'stcs_limit', 'schema': 'pg_catalog', 'type': 'SYSTEM TABLE'},\n",
       " {'name': 'stcs_load_commits', 'schema': 'pg_catalog', 'type': 'SYSTEM TABLE'},\n",
       " {'name': 'stcs_load_error_detail_base',\n",
       "  'schema': 'pg_catalog',\n",
       "  'type': 'SYSTEM TABLE'},\n",
       " {'name': 'stcs_load_error_info',\n",
       "  'schema': 'pg_catalog',\n",
       "  'type': 'SYSTEM TABLE'},\n",
       " {'name': 'stcs_load_errors', 'schema': 'pg_catalog', 'type': 'SYSTEM TABLE'},\n",
       " {'name': 'stcs_load_history_base',\n",
       "  'schema': 'pg_catalog',\n",
       "  'type': 'SYSTEM TABLE'},\n",
       " {'name': 'stcs_load_options', 'schema': 'pg_catalog', 'type': 'SYSTEM TABLE'},\n",
       " {'name': 'stcs_load_trace', 'schema': 'pg_catalog', 'type': 'SYSTEM TABLE'},\n",
       " {'name': 'stcs_loaderror_detail',\n",
       "  'schema': 'pg_catalog',\n",
       "  'type': 'SYSTEM TABLE'},\n",
       " {'name': 'stcs_lwlock', 'schema': 'pg_catalog', 'type': 'SYSTEM TABLE'},\n",
       " {'name': 'stcs_mark_partitions',\n",
       "  'schema': 'pg_catalog',\n",
       "  'type': 'SYSTEM TABLE'},\n",
       " {'name': 'stcs_mem_alloc_history',\n",
       "  'schema': 'pg_catalog',\n",
       "  'type': 'SYSTEM TABLE'},\n",
       " {'name': 'stcs_mem_block_details',\n",
       "  'schema': 'pg_catalog',\n",
       "  'type': 'SYSTEM TABLE'},\n",
       " {'name': 'stcs_mem_freelist', 'schema': 'pg_catalog', 'type': 'SYSTEM TABLE'},\n",
       " {'name': 'stcs_mem_heavy_hitters',\n",
       "  'schema': 'pg_catalog',\n",
       "  'type': 'SYSTEM TABLE'},\n",
       " {'name': 'stcs_mem_leaks', 'schema': 'pg_catalog', 'type': 'SYSTEM TABLE'},\n",
       " {'name': 'stcs_mem_ops_counts',\n",
       "  'schema': 'pg_catalog',\n",
       "  'type': 'SYSTEM TABLE'},\n",
       " {'name': 'stcs_memefficiency',\n",
       "  'schema': 'pg_catalog',\n",
       "  'type': 'SYSTEM TABLE'},\n",
       " {'name': 'stcs_memhisto', 'schema': 'pg_catalog', 'type': 'SYSTEM TABLE'},\n",
       " {'name': 'stcs_memory_pressure_actions',\n",
       "  'schema': 'pg_catalog',\n",
       "  'type': 'SYSTEM TABLE'},\n",
       " {'name': 'stcs_memory_pressure_state',\n",
       "  'schema': 'pg_catalog',\n",
       "  'type': 'SYSTEM TABLE'},\n",
       " {'name': 'stcs_memory_pressure_suspects',\n",
       "  'schema': 'pg_catalog',\n",
       "  'type': 'SYSTEM TABLE'},\n",
       " {'name': 'stcs_merge', 'schema': 'pg_catalog', 'type': 'SYSTEM TABLE'},\n",
       " {'name': 'stcs_mergejoin', 'schema': 'pg_catalog', 'type': 'SYSTEM TABLE'},\n",
       " {'name': 'stcs_metadata_step',\n",
       "  'schema': 'pg_catalog',\n",
       "  'type': 'SYSTEM TABLE'},\n",
       " {'name': 'stcs_minmax_errors',\n",
       "  'schema': 'pg_catalog',\n",
       "  'type': 'SYSTEM TABLE'},\n",
       " {'name': 'stcs_misc_sys_stat',\n",
       "  'schema': 'pg_catalog',\n",
       "  'type': 'SYSTEM TABLE'},\n",
       " {'name': 'stcs_ml_create_model_log',\n",
       "  'schema': 'pg_catalog',\n",
       "  'type': 'SYSTEM TABLE'},\n",
       " {'name': 'stcs_ml_dlr_usage', 'schema': 'pg_catalog', 'type': 'SYSTEM TABLE'},\n",
       " {'name': 'stcs_ml_log', 'schema': 'pg_catalog', 'type': 'SYSTEM TABLE'},\n",
       " {'name': 'stcs_ml_manager_log',\n",
       "  'schema': 'pg_catalog',\n",
       "  'type': 'SYSTEM TABLE'},\n",
       " {'name': 'stcs_ml_model_stats',\n",
       "  'schema': 'pg_catalog',\n",
       "  'type': 'SYSTEM TABLE'},\n",
       " {'name': 'stcs_ml_processing_log',\n",
       "  'schema': 'pg_catalog',\n",
       "  'type': 'SYSTEM TABLE'},\n",
       " {'name': 'stcs_ml_sagemaker_error',\n",
       "  'schema': 'pg_catalog',\n",
       "  'type': 'SYSTEM TABLE'},\n",
       " {'name': 'stcs_ml_sagemaker_request',\n",
       "  'schema': 'pg_catalog',\n",
       "  'type': 'SYSTEM TABLE'},\n",
       " {'name': 'stcs_mmf_details', 'schema': 'pg_catalog', 'type': 'SYSTEM TABLE'},\n",
       " {'name': 'stcs_monitoring_logs_internal',\n",
       "  'schema': 'pg_catalog',\n",
       "  'type': 'SYSTEM TABLE'},\n",
       " {'name': 'stcs_multi_statement_violations',\n",
       "  'schema': 'pg_catalog',\n",
       "  'type': 'SYSTEM TABLE'},\n",
       " {'name': 'stcs_mutex_contention',\n",
       "  'schema': 'pg_catalog',\n",
       "  'type': 'SYSTEM TABLE'},\n",
       " {'name': 'stcs_mv_aqmv', 'schema': 'pg_catalog', 'type': 'SYSTEM TABLE'},\n",
       " {'name': 'stcs_mv_refresh', 'schema': 'pg_catalog', 'type': 'SYSTEM TABLE'},\n",
       " {'name': 'stcs_mv_state', 'schema': 'pg_catalog', 'type': 'SYSTEM TABLE'},\n",
       " {'name': 'stcs_nestloop', 'schema': 'pg_catalog', 'type': 'SYSTEM TABLE'},\n",
       " {'name': 'stcs_net_stat', 'schema': 'pg_catalog', 'type': 'SYSTEM TABLE'},\n",
       " {'name': 'stcs_netmon_ip', 'schema': 'pg_catalog', 'type': 'SYSTEM TABLE'},\n",
       " {'name': 'stcs_netmon_mac', 'schema': 'pg_catalog', 'type': 'SYSTEM TABLE'},\n",
       " {'name': 'stcs_network_throttle',\n",
       "  'schema': 'pg_catalog',\n",
       "  'type': 'SYSTEM TABLE'},\n",
       " {'name': 'stcs_nft_session_persistence',\n",
       "  'schema': 'pg_catalog',\n",
       "  'type': 'SYSTEM TABLE'},\n",
       " {'name': 'stcs_node_failovers',\n",
       "  'schema': 'pg_catalog',\n",
       "  'type': 'SYSTEM TABLE'},\n",
       " {'name': 'stcs_nullyze', 'schema': 'pg_catalog', 'type': 'SYSTEM TABLE'},\n",
       " {'name': 'stcs_omnisql_error',\n",
       "  'schema': 'pg_catalog',\n",
       "  'type': 'SYSTEM TABLE'},\n",
       " {'name': 'stcs_omnisql_rewrite_rules',\n",
       "  'schema': 'pg_catalog',\n",
       "  'type': 'SYSTEM TABLE'},\n",
       " {'name': 'stcs_omnisql_rewrite_stats',\n",
       "  'schema': 'pg_catalog',\n",
       "  'type': 'SYSTEM TABLE'},\n",
       " {'name': 'stcs_parse', 'schema': 'pg_catalog', 'type': 'SYSTEM TABLE'},\n",
       " {'name': 'stcs_perf_comm', 'schema': 'pg_catalog', 'type': 'SYSTEM TABLE'},\n",
       " {'name': 'stcs_perf_histograms',\n",
       "  'schema': 'pg_catalog',\n",
       "  'type': 'SYSTEM TABLE'},\n",
       " {'name': 'stcs_persisted_sessions_on_disk',\n",
       "  'schema': 'pg_catalog',\n",
       "  'type': 'SYSTEM TABLE'},\n",
       " {'name': 'stcs_pinned_blocks',\n",
       "  'schema': 'pg_catalog',\n",
       "  'type': 'SYSTEM TABLE'},\n",
       " {'name': 'stcs_plan_explain', 'schema': 'pg_catalog', 'type': 'SYSTEM TABLE'},\n",
       " {'name': 'stcs_plan_explain_props',\n",
       "  'schema': 'pg_catalog',\n",
       "  'type': 'SYSTEM TABLE'},\n",
       " {'name': 'stcs_plan_explain_tree',\n",
       "  'schema': 'pg_catalog',\n",
       "  'type': 'SYSTEM TABLE'},\n",
       " {'name': 'stcs_plan_info', 'schema': 'pg_catalog', 'type': 'SYSTEM TABLE'},\n",
       " {'name': 'stcs_plan_perf', 'schema': 'pg_catalog', 'type': 'SYSTEM TABLE'},\n",
       " {'name': 'stcs_plan_qid_map', 'schema': 'pg_catalog', 'type': 'SYSTEM TABLE'},\n",
       " {'name': 'stcs_plan_querytext',\n",
       "  'schema': 'pg_catalog',\n",
       "  'type': 'SYSTEM TABLE'},\n",
       " {'name': 'stcs_plan_rule_stats',\n",
       "  'schema': 'pg_catalog',\n",
       "  'type': 'SYSTEM TABLE'},\n",
       " {'name': 'stcs_plan_state', 'schema': 'pg_catalog', 'type': 'SYSTEM TABLE'},\n",
       " {'name': 'stcs_prefetch_stats',\n",
       "  'schema': 'pg_catalog',\n",
       "  'type': 'SYSTEM TABLE'},\n",
       " {'name': 'stcs_print', 'schema': 'pg_catalog', 'type': 'SYSTEM TABLE'},\n",
       " {'name': 'stcs_proc_stat', 'schema': 'pg_catalog', 'type': 'SYSTEM TABLE'},\n",
       " {'name': 'stcs_process_state',\n",
       "  'schema': 'pg_catalog',\n",
       "  'type': 'SYSTEM TABLE'},\n",
       " {'name': 'stcs_project', 'schema': 'pg_catalog', 'type': 'SYSTEM TABLE'},\n",
       " {'name': 'stcs_query', 'schema': 'pg_catalog', 'type': 'SYSTEM TABLE'},\n",
       " {'name': 'stcs_query_block_stats',\n",
       "  'schema': 'pg_catalog',\n",
       "  'type': 'SYSTEM TABLE'},\n",
       " {'name': 'stcs_query_concurrency_scaling_decision',\n",
       "  'schema': 'pg_catalog',\n",
       "  'type': 'SYSTEM TABLE'},\n",
       " {'name': 'stcs_query_execution_time_prediction',\n",
       "  'schema': 'pg_catalog',\n",
       "  'type': 'SYSTEM TABLE'},\n",
       " {'name': 'stcs_query_heap_memory_stats_by_component',\n",
       "  'schema': 'pg_catalog',\n",
       "  'type': 'SYSTEM TABLE'},\n",
       " {'name': 'stcs_query_heap_memory_usage',\n",
       "  'schema': 'pg_catalog',\n",
       "  'type': 'SYSTEM TABLE'},\n",
       " {'name': 'stcs_query_history_base',\n",
       "  'schema': 'pg_catalog',\n",
       "  'type': 'SYSTEM TABLE'},\n",
       " {'name': 'stcs_query_internal',\n",
       "  'schema': 'pg_catalog',\n",
       "  'type': 'SYSTEM TABLE'},\n",
       " {'name': 'stcs_query_mem_leaks',\n",
       "  'schema': 'pg_catalog',\n",
       "  'type': 'SYSTEM TABLE'},\n",
       " {'name': 'stcs_query_mem_stats',\n",
       "  'schema': 'pg_catalog',\n",
       "  'type': 'SYSTEM TABLE'},\n",
       " {'name': 'stcs_query_mem_stats_by_type',\n",
       "  'schema': 'pg_catalog',\n",
       "  'type': 'SYSTEM TABLE'},\n",
       " {'name': 'stcs_query_memory_cheating',\n",
       "  'schema': 'pg_catalog',\n",
       "  'type': 'SYSTEM TABLE'},\n",
       " {'name': 'stcs_query_metrics',\n",
       "  'schema': 'pg_catalog',\n",
       "  'type': 'SYSTEM TABLE'},\n",
       " {'name': 'stcs_query_prediction',\n",
       "  'schema': 'pg_catalog',\n",
       "  'type': 'SYSTEM TABLE'},\n",
       " {'name': 'stcs_query_step_times',\n",
       "  'schema': 'pg_catalog',\n",
       "  'type': 'SYSTEM TABLE'},\n",
       " {'name': 'stcs_query_transmit_metrics',\n",
       "  'schema': 'pg_catalog',\n",
       "  'type': 'SYSTEM TABLE'},\n",
       " {'name': 'stcs_query_tx_metrics',\n",
       "  'schema': 'pg_catalog',\n",
       "  'type': 'SYSTEM TABLE'},\n",
       " {'name': 'stcs_querytext', 'schema': 'pg_catalog', 'type': 'SYSTEM TABLE'},\n",
       " {'name': 'stcs_querytext_internal',\n",
       "  'schema': 'pg_catalog',\n",
       "  'type': 'SYSTEM TABLE'},\n",
       " {'name': 'stcs_range_insert', 'schema': 'pg_catalog', 'type': 'SYSTEM TABLE'},\n",
       " {'name': 'stcs_redcat_journal_gc_info',\n",
       "  'schema': 'pg_catalog',\n",
       "  'type': 'SYSTEM TABLE'},\n",
       " {'name': 'stcs_redshift_proxy_log',\n",
       "  'schema': 'pg_catalog',\n",
       "  'type': 'SYSTEM TABLE'},\n",
       " {'name': 'stcs_rehydration_metrics',\n",
       "  'schema': 'pg_catalog',\n",
       "  'type': 'SYSTEM TABLE'},\n",
       " {'name': 'stcs_remote_access_blocklist',\n",
       "  'schema': 'pg_catalog',\n",
       "  'type': 'SYSTEM TABLE'},\n",
       " {'name': 'stcs_replacements', 'schema': 'pg_catalog', 'type': 'SYSTEM TABLE'},\n",
       " {'name': 'stcs_rereplication',\n",
       "  'schema': 'pg_catalog',\n",
       "  'type': 'SYSTEM TABLE'},\n",
       " {'name': 'stcs_res_leaks', 'schema': 'pg_catalog', 'type': 'SYSTEM TABLE'},\n",
       " {'name': 'stcs_restarted_sessions',\n",
       "  'schema': 'pg_catalog',\n",
       "  'type': 'SYSTEM TABLE'},\n",
       " {'name': 'stcs_restarted_sessions_internal',\n",
       "  'schema': 'pg_catalog',\n",
       "  'type': 'SYSTEM TABLE'},\n",
       " {'name': 'stcs_restore', 'schema': 'pg_catalog', 'type': 'SYSTEM TABLE'},\n",
       " {'name': 'stcs_result_cache_history',\n",
       "  'schema': 'pg_catalog',\n",
       "  'type': 'SYSTEM TABLE'},\n",
       " {'name': 'stcs_result_cache_stats',\n",
       "  'schema': 'pg_catalog',\n",
       "  'type': 'SYSTEM TABLE'},\n",
       " {'name': 'stcs_return', 'schema': 'pg_catalog', 'type': 'SYSTEM TABLE'},\n",
       " {'name': 'stcs_rlf_scan', 'schema': 'pg_catalog', 'type': 'SYSTEM TABLE'},\n",
       " {'name': 'stcs_rms_calls', 'schema': 'pg_catalog', 'type': 'SYSTEM TABLE'},\n",
       " {'name': 'stcs_rpc', 'schema': 'pg_catalog', 'type': 'SYSTEM TABLE'},\n",
       " {'name': 'stcs_rtf_save', 'schema': 'pg_catalog', 'type': 'SYSTEM TABLE'},\n",
       " {'name': 'stcs_rtf_stats', 'schema': 'pg_catalog', 'type': 'SYSTEM TABLE'},\n",
       " {'name': 'stcs_rtree', 'schema': 'pg_catalog', 'type': 'SYSTEM TABLE'},\n",
       " {'name': 'stcs_s3_commit_leak',\n",
       "  'schema': 'pg_catalog',\n",
       "  'type': 'SYSTEM TABLE'},\n",
       " {'name': 'stcs_s3_write_block_debug',\n",
       "  'schema': 'pg_catalog',\n",
       "  'type': 'SYSTEM TABLE'},\n",
       " {'name': 'stcs_s3client', 'schema': 'pg_catalog', 'type': 'SYSTEM TABLE'},\n",
       " {'name': 'stcs_s3client_error',\n",
       "  'schema': 'pg_catalog',\n",
       "  'type': 'SYSTEM TABLE'},\n",
       " {'name': 'stcs_s3client_trace',\n",
       "  'schema': 'pg_catalog',\n",
       "  'type': 'SYSTEM TABLE'},\n",
       " {'name': 'stcs_s3commit_stats',\n",
       "  'schema': 'pg_catalog',\n",
       "  'type': 'SYSTEM TABLE'},\n",
       " {'name': 'stcs_s3list', 'schema': 'pg_catalog', 'type': 'SYSTEM TABLE'},\n",
       " {'name': 'stcs_s3log', 'schema': 'pg_catalog', 'type': 'SYSTEM TABLE'},\n",
       " {'name': 'stcs_s3partition_elimination',\n",
       "  'schema': 'pg_catalog',\n",
       "  'type': 'SYSTEM TABLE'},\n",
       " {'name': 'stcs_s3partition_predicate',\n",
       "  'schema': 'pg_catalog',\n",
       "  'type': 'SYSTEM TABLE'},\n",
       " {'name': 'stcs_s3pushdown', 'schema': 'pg_catalog', 'type': 'SYSTEM TABLE'},\n",
       " {'name': 'stcs_s3query', 'schema': 'pg_catalog', 'type': 'SYSTEM TABLE'},\n",
       " {'name': 'stcs_s3query_billing_trace',\n",
       "  'schema': 'pg_catalog',\n",
       "  'type': 'SYSTEM TABLE'},\n",
       " {'name': 'stcs_s3query_metering',\n",
       "  'schema': 'pg_catalog',\n",
       "  'type': 'SYSTEM TABLE'},\n",
       " {'name': 'stcs_s3requests', 'schema': 'pg_catalog', 'type': 'SYSTEM TABLE'},\n",
       " {'name': 'stcs_s3retries', 'schema': 'pg_catalog', 'type': 'SYSTEM TABLE'},\n",
       " {'name': 'stcs_sample', 'schema': 'pg_catalog', 'type': 'SYSTEM TABLE'},\n",
       " {'name': 'stcs_save', 'schema': 'pg_catalog', 'type': 'SYSTEM TABLE'},\n",
       " {'name': 'stcs_sb_recovery', 'schema': 'pg_catalog', 'type': 'SYSTEM TABLE'},\n",
       " {'name': 'stcs_scan', 'schema': 'pg_catalog', 'type': 'SYSTEM TABLE'},\n",
       " {'name': 'stcs_scan_range_stats',\n",
       "  'schema': 'pg_catalog',\n",
       "  'type': 'SYSTEM TABLE'},\n",
       " {'name': 'stcs_schema_quota_ddl',\n",
       "  'schema': 'pg_catalog',\n",
       "  'type': 'SYSTEM TABLE'},\n",
       " {'name': 'stcs_schema_quota_violations',\n",
       "  'schema': 'pg_catalog',\n",
       "  'type': 'SYSTEM TABLE'},\n",
       " {'name': 'stcs_seg_completed_notify',\n",
       "  'schema': 'pg_catalog',\n",
       "  'type': 'SYSTEM TABLE'},\n",
       " {'name': 'stcs_segment_ends_cleanly',\n",
       "  'schema': 'pg_catalog',\n",
       "  'type': 'SYSTEM TABLE'},\n",
       " {'name': 'stcs_segment_starts',\n",
       "  'schema': 'pg_catalog',\n",
       "  'type': 'SYSTEM TABLE'},\n",
       " {'name': 'stcs_sem_pool', 'schema': 'pg_catalog', 'type': 'SYSTEM TABLE'},\n",
       " {'name': 'stcs_sem_stat', 'schema': 'pg_catalog', 'type': 'SYSTEM TABLE'},\n",
       " {'name': 'stcs_sem_usage', 'schema': 'pg_catalog', 'type': 'SYSTEM TABLE'},\n",
       " {'name': 'stcs_serial_safety_net',\n",
       "  'schema': 'pg_catalog',\n",
       "  'type': 'SYSTEM TABLE'},\n",
       " {'name': 'stcs_server_write_timings',\n",
       "  'schema': 'pg_catalog',\n",
       "  'type': 'SYSTEM TABLE'},\n",
       " {'name': 'stcs_session_state',\n",
       "  'schema': 'pg_catalog',\n",
       "  'type': 'SYSTEM TABLE'},\n",
       " {'name': 'stcs_sessions', 'schema': 'pg_catalog', 'type': 'SYSTEM TABLE'},\n",
       " {'name': 'stcs_shadow_table_commit',\n",
       "  'schema': 'pg_catalog',\n",
       "  'type': 'SYSTEM TABLE'},\n",
       " {'name': 'stcs_skr_scan_metrics',\n",
       "  'schema': 'pg_catalog',\n",
       "  'type': 'SYSTEM TABLE'},\n",
       " {'name': 'stcs_small_table_convert_event',\n",
       "  'schema': 'pg_catalog',\n",
       "  'type': 'SYSTEM TABLE'},\n",
       " {'name': 'stcs_smfaults', 'schema': 'pg_catalog', 'type': 'SYSTEM TABLE'},\n",
       " {'name': 'stcs_smfaults_cleared',\n",
       "  'schema': 'pg_catalog',\n",
       "  'type': 'SYSTEM TABLE'},\n",
       " {'name': 'stcs_smfaults_mval',\n",
       "  'schema': 'pg_catalog',\n",
       "  'type': 'SYSTEM TABLE'},\n",
       " {'name': 'stcs_smfaults_overflow',\n",
       "  'schema': 'pg_catalog',\n",
       "  'type': 'SYSTEM TABLE'},\n",
       " {'name': 'stcs_smlog', 'schema': 'pg_catalog', 'type': 'SYSTEM TABLE'},\n",
       " {'name': 'stcs_snapshotbackup',\n",
       "  'schema': 'pg_catalog',\n",
       "  'type': 'SYSTEM TABLE'},\n",
       " {'name': 'stcs_sort', 'schema': 'pg_catalog', 'type': 'SYSTEM TABLE'},\n",
       " {'name': 'stcs_sorted_checker',\n",
       "  'schema': 'pg_catalog',\n",
       "  'type': 'SYSTEM TABLE'},\n",
       " {'name': 'stcs_sorted_checker_leader',\n",
       "  'schema': 'pg_catalog',\n",
       "  'type': 'SYSTEM TABLE'},\n",
       " {'name': 'stcs_spatial_column_linker',\n",
       "  'schema': 'pg_catalog',\n",
       "  'type': 'SYSTEM TABLE'},\n",
       " {'name': 'stcs_spatial_function',\n",
       "  'schema': 'pg_catalog',\n",
       "  'type': 'SYSTEM TABLE'},\n",
       " {'name': 'stcs_spatial_index',\n",
       "  'schema': 'pg_catalog',\n",
       "  'type': 'SYSTEM TABLE'},\n",
       " {'name': 'stcs_spatial_join', 'schema': 'pg_catalog', 'type': 'SYSTEM TABLE'},\n",
       " {'name': 'stcs_spatial_query',\n",
       "  'schema': 'pg_catalog',\n",
       "  'type': 'SYSTEM TABLE'},\n",
       " {'name': 'stcs_spatial_simplify',\n",
       "  'schema': 'pg_catalog',\n",
       "  'type': 'SYSTEM TABLE'},\n",
       " {'name': 'stcs_spectrum_cache_error',\n",
       "  'schema': 'pg_catalog',\n",
       "  'type': 'SYSTEM TABLE'},\n",
       " {'name': 'stcs_spectrum_scan_error',\n",
       "  'schema': 'pg_catalog',\n",
       "  'type': 'SYSTEM TABLE'},\n",
       " {'name': 'stcs_sshclient_error',\n",
       "  'schema': 'pg_catalog',\n",
       "  'type': 'SYSTEM TABLE'},\n",
       " {'name': 'stcs_ssn_violation',\n",
       "  'schema': 'pg_catalog',\n",
       "  'type': 'SYSTEM TABLE'},\n",
       " {'name': 'stcs_stack_trace', 'schema': 'pg_catalog', 'type': 'SYSTEM TABLE'},\n",
       " {'name': 'stcs_stack_traces', 'schema': 'pg_catalog', 'type': 'SYSTEM TABLE'},\n",
       " {'name': 'stcs_startup_metrics',\n",
       "  'schema': 'pg_catalog',\n",
       "  'type': 'SYSTEM TABLE'},\n",
       " {'name': 'stcs_step_parse', 'schema': 'pg_catalog', 'type': 'SYSTEM TABLE'},\n",
       " {'name': 'stcs_steps', 'schema': 'pg_catalog', 'type': 'SYSTEM TABLE'},\n",
       " {'name': 'stcs_stored_proc_call',\n",
       "  'schema': 'pg_catalog',\n",
       "  'type': 'SYSTEM TABLE'},\n",
       " {'name': 'stcs_stored_proc_call_map',\n",
       "  'schema': 'pg_catalog',\n",
       "  'type': 'SYSTEM TABLE'},\n",
       " {'name': 'stcs_stored_proc_messages',\n",
       "  'schema': 'pg_catalog',\n",
       "  'type': 'SYSTEM TABLE'},\n",
       " {'name': 'stcs_stream_segs', 'schema': 'pg_catalog', 'type': 'SYSTEM TABLE'},\n",
       " {'name': 'stcs_super_column_linker',\n",
       "  'schema': 'pg_catalog',\n",
       "  'type': 'SYSTEM TABLE'},\n",
       " {'name': 'stcs_super_function',\n",
       "  'schema': 'pg_catalog',\n",
       "  'type': 'SYSTEM TABLE'},\n",
       " {'name': 'stcs_super_query', 'schema': 'pg_catalog', 'type': 'SYSTEM TABLE'},\n",
       " {'name': 'stcs_superblock_integrity_error',\n",
       "  'schema': 'pg_catalog',\n",
       "  'type': 'SYSTEM TABLE'},\n",
       " {'name': 'stcs_superblock_vacuum',\n",
       "  'schema': 'pg_catalog',\n",
       "  'type': 'SYSTEM TABLE'},\n",
       " {'name': 'stcs_swap', 'schema': 'pg_catalog', 'type': 'SYSTEM TABLE'},\n",
       " {'name': 'stcs_system_abort_txn',\n",
       "  'schema': 'pg_catalog',\n",
       "  'type': 'SYSTEM TABLE'},\n",
       " {'name': 'stcs_system_state', 'schema': 'pg_catalog', 'type': 'SYSTEM TABLE'},\n",
       " {'name': 'stcs_table_mutex', 'schema': 'pg_catalog', 'type': 'SYSTEM TABLE'},\n",
       " {'name': 'stcs_table_partition_qpd_stats',\n",
       "  'schema': 'pg_catalog',\n",
       "  'type': 'SYSTEM TABLE'},\n",
       " {'name': 'stcs_table_partition_scan',\n",
       "  'schema': 'pg_catalog',\n",
       "  'type': 'SYSTEM TABLE'},\n",
       " {'name': 'stcs_table_partitions_hotness_stats',\n",
       "  'schema': 'pg_catalog',\n",
       "  'type': 'SYSTEM TABLE'},\n",
       " {'name': 'stcs_terminate', 'schema': 'pg_catalog', 'type': 'SYSTEM TABLE'},\n",
       " {'name': 'stcs_tiered_storage_controller',\n",
       "  'schema': 'pg_catalog',\n",
       "  'type': 'SYSTEM TABLE'},\n",
       " {'name': 'stcs_tiered_storage_s3_blocks',\n",
       "  'schema': 'pg_catalog',\n",
       "  'type': 'SYSTEM TABLE'},\n",
       " {'name': 'stcs_tombstone', 'schema': 'pg_catalog', 'type': 'SYSTEM TABLE'},\n",
       " {'name': 'stcs_tr_conflict', 'schema': 'pg_catalog', 'type': 'SYSTEM TABLE'},\n",
       " {'name': 'stcs_transaction_read_write_set',\n",
       "  'schema': 'pg_catalog',\n",
       "  'type': 'SYSTEM TABLE'},\n",
       " {'name': 'stcs_udf', 'schema': 'pg_catalog', 'type': 'SYSTEM TABLE'},\n",
       " {'name': 'stcs_udf_compile_error',\n",
       "  'schema': 'pg_catalog',\n",
       "  'type': 'SYSTEM TABLE'},\n",
       " {'name': 'stcs_udf_log', 'schema': 'pg_catalog', 'type': 'SYSTEM TABLE'},\n",
       " {'name': 'stcs_udf_trace', 'schema': 'pg_catalog', 'type': 'SYSTEM TABLE'},\n",
       " {'name': 'stcs_undo_transactions',\n",
       "  'schema': 'pg_catalog',\n",
       "  'type': 'SYSTEM TABLE'},\n",
       " {'name': 'stcs_undone', 'schema': 'pg_catalog', 'type': 'SYSTEM TABLE'},\n",
       " {'name': 'stcs_unique', 'schema': 'pg_catalog', 'type': 'SYSTEM TABLE'},\n",
       " {'name': 'stcs_unload_history_base',\n",
       "  'schema': 'pg_catalog',\n",
       "  'type': 'SYSTEM TABLE'},\n",
       " {'name': 'stcs_unload_log', 'schema': 'pg_catalog', 'type': 'SYSTEM TABLE'},\n",
       " {'name': 'stcs_unload_options',\n",
       "  'schema': 'pg_catalog',\n",
       "  'type': 'SYSTEM TABLE'},\n",
       " {'name': 'stcs_unnest', 'schema': 'pg_catalog', 'type': 'SYSTEM TABLE'},\n",
       " {'name': 'stcs_usage_control',\n",
       "  'schema': 'pg_catalog',\n",
       "  'type': 'SYSTEM TABLE'},\n",
       " {'name': 'stcs_user_query_rewrite',\n",
       "  'schema': 'pg_catalog',\n",
       "  'type': 'SYSTEM TABLE'},\n",
       " {'name': 'stcs_userlog', 'schema': 'pg_catalog', 'type': 'SYSTEM TABLE'},\n",
       " {'name': 'stcs_utilitytext', 'schema': 'pg_catalog', 'type': 'SYSTEM TABLE'},\n",
       " {'name': 'stcs_vacuum', 'schema': 'pg_catalog', 'type': 'SYSTEM TABLE'},\n",
       " {'name': 'stcs_vacuum_detail',\n",
       "  'schema': 'pg_catalog',\n",
       "  'type': 'SYSTEM TABLE'},\n",
       " {'name': 'stcs_vacuum_history',\n",
       "  'schema': 'pg_catalog',\n",
       "  'type': 'SYSTEM TABLE'},\n",
       " {'name': 'stcs_vacuum_scan_query_usage',\n",
       "  'schema': 'pg_catalog',\n",
       "  'type': 'SYSTEM TABLE'},\n",
       " {'name': 'stcs_varbyte_column_linker',\n",
       "  'schema': 'pg_catalog',\n",
       "  'type': 'SYSTEM TABLE'},\n",
       " {'name': 'stcs_varbyte_function',\n",
       "  'schema': 'pg_catalog',\n",
       "  'type': 'SYSTEM TABLE'},\n",
       " {'name': 'stcs_varbyte_query',\n",
       "  'schema': 'pg_catalog',\n",
       "  'type': 'SYSTEM TABLE'},\n",
       " {'name': 'stcs_vec_scan_stats',\n",
       "  'schema': 'pg_catalog',\n",
       "  'type': 'SYSTEM TABLE'},\n",
       " {'name': 'stcs_version', 'schema': 'pg_catalog', 'type': 'SYSTEM TABLE'},\n",
       " {'name': 'stcs_volt_tt_sizes',\n",
       "  'schema': 'pg_catalog',\n",
       "  'type': 'SYSTEM TABLE'},\n",
       " {'name': 'stcs_vpid', 'schema': 'pg_catalog', 'type': 'SYSTEM TABLE'},\n",
       " {'name': 'stcs_vpid_error', 'schema': 'pg_catalog', 'type': 'SYSTEM TABLE'},\n",
       " {'name': 'stcs_wam_lifecycle',\n",
       "  'schema': 'pg_catalog',\n",
       "  'type': 'SYSTEM TABLE'},\n",
       " {'name': 'stcs_warning', 'schema': 'pg_catalog', 'type': 'SYSTEM TABLE'},\n",
       " {'name': 'stcs_window', 'schema': 'pg_catalog', 'type': 'SYSTEM TABLE'},\n",
       " {'name': 'stcs_wlm_auto_concurrency',\n",
       "  'schema': 'pg_catalog',\n",
       "  'type': 'SYSTEM TABLE'},\n",
       " {'name': 'stcs_wlm_error', 'schema': 'pg_catalog', 'type': 'SYSTEM TABLE'},\n",
       " {'name': 'stcs_wlm_query', 'schema': 'pg_catalog', 'type': 'SYSTEM TABLE'},\n",
       " {'name': 'stcs_wlm_query_preemption',\n",
       "  'schema': 'pg_catalog',\n",
       "  'type': 'SYSTEM TABLE'},\n",
       " {'name': 'stcs_wlm_rule_action',\n",
       "  'schema': 'pg_catalog',\n",
       "  'type': 'SYSTEM TABLE'},\n",
       " {'name': 'stcs_wlm_service_class_config',\n",
       "  'schema': 'pg_catalog',\n",
       "  'type': 'SYSTEM TABLE'},\n",
       " {'name': 'stcs_wlm_trace', 'schema': 'pg_catalog', 'type': 'SYSTEM TABLE'},\n",
       " {'name': 'stcs_wlm_trace_query_state',\n",
       "  'schema': 'pg_catalog',\n",
       "  'type': 'SYSTEM TABLE'},\n",
       " {'name': 'stcs_xid_consumption_rate',\n",
       "  'schema': 'pg_catalog',\n",
       "  'type': 'SYSTEM TABLE'},\n",
       " {'name': 'stcs_xrestore', 'schema': 'pg_catalog', 'type': 'SYSTEM TABLE'},\n",
       " {'name': 'stcs_xrestore_alter_distkey',\n",
       "  'schema': 'pg_catalog',\n",
       "  'type': 'SYSTEM TABLE'},\n",
       " {'name': 'stll_abort_idle', 'schema': 'pg_catalog', 'type': 'SYSTEM TABLE'},\n",
       " {'name': 'stll_aggr', 'schema': 'pg_catalog', 'type': 'SYSTEM TABLE'},\n",
       " {'name': 'stll_aggr_distinct',\n",
       "  'schema': 'pg_catalog',\n",
       "  'type': 'SYSTEM TABLE'},\n",
       " {'name': 'stll_alert_event_log',\n",
       "  'schema': 'pg_catalog',\n",
       "  'type': 'SYSTEM TABLE'},\n",
       " {'name': 'stll_alert_messages',\n",
       "  'schema': 'pg_catalog',\n",
       "  'type': 'SYSTEM TABLE'},\n",
       " {'name': 'stll_alter_column_encode_events',\n",
       "  'schema': 'pg_catalog',\n",
       "  'type': 'SYSTEM TABLE'},\n",
       " {'name': 'stll_alter_column_events',\n",
       "  'schema': 'pg_catalog',\n",
       "  'type': 'SYSTEM TABLE'},\n",
       " {'name': 'stll_alter_dist_sort',\n",
       "  'schema': 'pg_catalog',\n",
       "  'type': 'SYSTEM TABLE'},\n",
       " {'name': 'stll_alter_sortkey_events',\n",
       "  'schema': 'pg_catalog',\n",
       "  'type': 'SYSTEM TABLE'},\n",
       " {'name': 'stll_analyze', 'schema': 'pg_catalog', 'type': 'SYSTEM TABLE'},\n",
       " {'name': 'stll_analyze_compression',\n",
       "  'schema': 'pg_catalog',\n",
       "  'type': 'SYSTEM TABLE'},\n",
       " {'name': 'stll_aqua_pushdown',\n",
       "  'schema': 'pg_catalog',\n",
       "  'type': 'SYSTEM TABLE'},\n",
       " {'name': 'stll_aqua_requests',\n",
       "  'schema': 'pg_catalog',\n",
       "  'type': 'SYSTEM TABLE'},\n",
       " {'name': 'stll_arcadia_billing_log',\n",
       "  'schema': 'pg_catalog',\n",
       "  'type': 'SYSTEM TABLE'},\n",
       " {'name': 'stll_arcadia_concurrency_scaling_usage',\n",
       "  'schema': 'pg_catalog',\n",
       "  'type': 'SYSTEM TABLE'},\n",
       " {'name': 'stll_arcadia_concurrency_scaling_usage_error',\n",
       "  'schema': 'pg_catalog',\n",
       "  'type': 'SYSTEM TABLE'},\n",
       " {'name': 'stll_arcadia_main_usage',\n",
       "  'schema': 'pg_catalog',\n",
       "  'type': 'SYSTEM TABLE'},\n",
       " {'name': 'stll_arcadia_main_usage_error',\n",
       "  'schema': 'pg_catalog',\n",
       "  'type': 'SYSTEM TABLE'},\n",
       " {'name': 'stll_auto_alter_worker_event',\n",
       "  'schema': 'pg_catalog',\n",
       "  'type': 'SYSTEM TABLE'},\n",
       " {'name': 'stll_auto_dispatcher_wlm_occupancy',\n",
       "  'schema': 'pg_catalog',\n",
       "  'type': 'SYSTEM TABLE'},\n",
       " {'name': 'stll_auto_maintenance',\n",
       "  'schema': 'pg_catalog',\n",
       "  'type': 'SYSTEM TABLE'},\n",
       " {'name': 'stll_auto_maintenance_worker',\n",
       "  'schema': 'pg_catalog',\n",
       "  'type': 'SYSTEM TABLE'}]"
      ]
     },
     "execution_count": 11,
     "metadata": {},
     "output_type": "execute_result"
    }
   ],
   "source": [
    "client_redshift.list_tables(\n",
    "        Database='workshopredshiftdb',\n",
    "        ClusterIdentifier='wsredshiftcluster-aefuqdzmefci',\n",
    "        DbUser='admin'\n",
    "    )['Tables']"
   ]
  },
  {
   "cell_type": "markdown",
   "metadata": {},
   "source": [
    "#### Loading the dataset"
   ]
  },
  {
   "cell_type": "code",
   "execution_count": 27,
   "metadata": {},
   "outputs": [],
   "source": [
    "qry_str = \"unload('select recency,frequency,monetary from rfm_input_2') to 's3://teststack-2-wsdatasetbucket-1ebe4ih4r3hjn/rfm_output/rfm_' iam_role 'arn:aws:iam::711415738051:role/teststack-2-WSRedshiftIAMRole-69ZIJTVKYIR5' format as CSV parallel off\""
   ]
  },
  {
   "cell_type": "code",
   "execution_count": 28,
   "metadata": {},
   "outputs": [
    {
     "name": "stdout",
     "output_type": "stream",
     "text": [
      "Waiter DataAPIExecution failed: Max attempts exceeded\n"
     ]
    }
   ],
   "source": [
    "waiter_model = WaiterModel(waiter_config)\n",
    "custom_waiter = create_waiter_with_client(waiter_name, waiter_model, client_redshift)\n",
    "\n",
    "res = client_redshift.execute_statement(Database='workshopredshiftdb', DbUser='admin', Sql= qry_str, ClusterIdentifier='wsredshiftcluster-aefuqdzmefci')\n",
    "id=res[\"Id\"]\n",
    "\n",
    "try:\n",
    "    custom_waiter.wait(Id=id)\n",
    "except WaiterError as e:\n",
    "    print(e)"
   ]
  },
  {
   "cell_type": "code",
   "execution_count": 29,
   "metadata": {},
   "outputs": [],
   "source": [
    "s3_client = boto3.client(\"s3\")\n",
    "data_bucket_name = \"teststack-2-wsdatasetbucket-1ebe4ih4r3hjn\""
   ]
  },
  {
   "cell_type": "code",
   "execution_count": 30,
   "metadata": {},
   "outputs": [
    {
     "name": "stdout",
     "output_type": "stream",
     "text": [
      "['olist_customers_dataset.csv', 'olist_order_payments_dataset.csv', 'olist_orders_dataset.csv', 'rfm_output/rfm_000']\n"
     ]
    }
   ],
   "source": [
    "obj_list = s3_client.list_objects(Bucket=data_bucket_name)\n",
    "file = []\n",
    "for contents in obj_list[\"Contents\"]:\n",
    "    file.append(contents[\"Key\"])\n",
    "print(file)"
   ]
  },
  {
   "cell_type": "code",
   "execution_count": 31,
   "metadata": {},
   "outputs": [],
   "source": [
    "file_data = file[3]"
   ]
  },
  {
   "cell_type": "markdown",
   "metadata": {},
   "source": [
    "Grab the data from the CSV file in the bucket."
   ]
  },
  {
   "cell_type": "code",
   "execution_count": 32,
   "metadata": {},
   "outputs": [],
   "source": [
    "response = s3_client.get_object(Bucket=data_bucket_name, Key=file_data)\n",
    "response_body = response[\"Body\"].read()\n",
    "customers = pd.read_csv(io.BytesIO(response_body), header=0, delimiter=\",\", low_memory=False)"
   ]
  },
  {
   "cell_type": "markdown",
   "metadata": {},
   "source": [
    "This is what the first 5 rows of our data looks like:"
   ]
  },
  {
   "cell_type": "code",
   "execution_count": 33,
   "metadata": {
    "nbpresent": {
     "id": "97a46770-dbe0-40ea-b454-b15bdec20f53"
    }
   },
   "outputs": [
    {
     "data": {
      "text/html": [
       "<div>\n",
       "<style scoped>\n",
       "    .dataframe tbody tr th:only-of-type {\n",
       "        vertical-align: middle;\n",
       "    }\n",
       "\n",
       "    .dataframe tbody tr th {\n",
       "        vertical-align: top;\n",
       "    }\n",
       "\n",
       "    .dataframe thead th {\n",
       "        text-align: right;\n",
       "    }\n",
       "</style>\n",
       "<table border=\"1\" class=\"dataframe\">\n",
       "  <thead>\n",
       "    <tr style=\"text-align: right;\">\n",
       "      <th></th>\n",
       "      <th>0.36360</th>\n",
       "      <th>0.0000</th>\n",
       "      <th>0.0390</th>\n",
       "    </tr>\n",
       "  </thead>\n",
       "  <tbody>\n",
       "    <tr>\n",
       "      <th>0</th>\n",
       "      <td>0.36360</td>\n",
       "      <td>0.0000</td>\n",
       "      <td>0.0145</td>\n",
       "    </tr>\n",
       "    <tr>\n",
       "      <th>1</th>\n",
       "      <td>0.36360</td>\n",
       "      <td>0.0000</td>\n",
       "      <td>0.0315</td>\n",
       "    </tr>\n",
       "    <tr>\n",
       "      <th>2</th>\n",
       "      <td>0.36360</td>\n",
       "      <td>0.0000</td>\n",
       "      <td>0.0125</td>\n",
       "    </tr>\n",
       "    <tr>\n",
       "      <th>3</th>\n",
       "      <td>0.36360</td>\n",
       "      <td>0.0000</td>\n",
       "      <td>0.2055</td>\n",
       "    </tr>\n",
       "    <tr>\n",
       "      <th>4</th>\n",
       "      <td>0.40905</td>\n",
       "      <td>0.3125</td>\n",
       "      <td>0.0715</td>\n",
       "    </tr>\n",
       "  </tbody>\n",
       "</table>\n",
       "</div>"
      ],
      "text/plain": [
       "   0.36360  0.0000  0.0390\n",
       "0  0.36360  0.0000  0.0145\n",
       "1  0.36360  0.0000  0.0315\n",
       "2  0.36360  0.0000  0.0125\n",
       "3  0.36360  0.0000  0.2055\n",
       "4  0.40905  0.3125  0.0715"
      ]
     },
     "execution_count": 33,
     "metadata": {},
     "output_type": "execute_result"
    }
   ],
   "source": [
    "customers.head()"
   ]
  },
  {
   "cell_type": "markdown",
   "metadata": {},
   "source": [
    "### d. Population segmentation using unsupervised clustering\n",
    "\n",
    "Now, we’ll use the `KMeans` algorithm to segment by the RFM attributes we have created. `KMeans` is a clustering algorithm that identifies clusters of similar customers based on their attributes."
   ]
  },
  {
   "cell_type": "code",
   "execution_count": 34,
   "metadata": {},
   "outputs": [],
   "source": [
    "train_data = customers.values.astype(\"float32\")"
   ]
  },
  {
   "cell_type": "markdown",
   "metadata": {},
   "source": [
    "First, we call and define the hyperparameters of our `KMeans` model. The `KMeans` algorithm allows the user to specify how many clusters to identify. In this instance, let's try to find the top 5 clusters from our dataset."
   ]
  },
  {
   "cell_type": "code",
   "execution_count": 35,
   "metadata": {},
   "outputs": [],
   "source": [
    "from sagemaker import KMeans\n",
    "\n",
    "num_clusters = 5\n",
    "kmeans = KMeans(\n",
    "    role=role,\n",
    "    instance_count=1,\n",
    "    instance_type=\"ml.c4.xlarge\",\n",
    "    output_path=\"s3://\" + \"teststack-2-wsdatasetbucket-1ebe4ih4r3hjn\" + \"/clustering_output/\",\n",
    "    k=num_clusters,\n",
    ")"
   ]
  },
  {
   "cell_type": "markdown",
   "metadata": {},
   "source": [
    "Then we train the model on our training data."
   ]
  },
  {
   "cell_type": "code",
   "execution_count": 36,
   "metadata": {},
   "outputs": [
    {
     "name": "stderr",
     "output_type": "stream",
     "text": [
      "Defaulting to the only supported framework/algorithm version: 1. Ignoring framework/algorithm version: 1.\n",
      "Defaulting to the only supported framework/algorithm version: 1. Ignoring framework/algorithm version: 1.\n"
     ]
    },
    {
     "name": "stdout",
     "output_type": "stream",
     "text": [
      "2021-11-20 11:06:25 Starting - Starting the training job...\n",
      "2021-11-20 11:06:52 Starting - Launching requested ML instancesProfilerReport-1637406385: InProgress\n",
      "......\n",
      "2021-11-20 11:07:52 Starting - Preparing the instances for training............\n",
      "2021-11-20 11:09:54 Downloading - Downloading input data...\n",
      "2021-11-20 11:10:16 Training - Training image download completed. Training in progress.\u001b[34mDocker entrypoint called with argument(s): train\u001b[0m\n",
      "\u001b[34mRunning default environment configuration script\u001b[0m\n",
      "\u001b[34m[11/20/2021 11:10:21 INFO 139648459515712] Reading default configuration from /opt/amazon/lib/python3.7/site-packages/algorithm/resources/default-input.json: {'init_method': 'random', 'mini_batch_size': '5000', 'epochs': '1', 'extra_center_factor': 'auto', 'local_lloyd_max_iter': '300', 'local_lloyd_tol': '0.0001', 'local_lloyd_init_method': 'kmeans++', 'local_lloyd_num_trials': 'auto', 'half_life_time_size': '0', 'eval_metrics': '[\"msd\"]', 'force_dense': 'true', '_disable_wait_to_read': 'false', '_enable_profiler': 'false', '_kvstore': 'auto', '_log_level': 'info', '_num_gpus': 'auto', '_num_kv_servers': '1', '_num_slices': '1', '_tuning_objective_metric': ''}\u001b[0m\n",
      "\u001b[34m[11/20/2021 11:10:21 INFO 139648459515712] Merging with provided configuration from /opt/ml/input/config/hyperparameters.json: {'feature_dim': '3', 'k': '5', 'force_dense': 'True'}\u001b[0m\n",
      "\u001b[34m[11/20/2021 11:10:21 INFO 139648459515712] Final configuration: {'init_method': 'random', 'mini_batch_size': '5000', 'epochs': '1', 'extra_center_factor': 'auto', 'local_lloyd_max_iter': '300', 'local_lloyd_tol': '0.0001', 'local_lloyd_init_method': 'kmeans++', 'local_lloyd_num_trials': 'auto', 'half_life_time_size': '0', 'eval_metrics': '[\"msd\"]', 'force_dense': 'True', '_disable_wait_to_read': 'false', '_enable_profiler': 'false', '_kvstore': 'auto', '_log_level': 'info', '_num_gpus': 'auto', '_num_kv_servers': '1', '_num_slices': '1', '_tuning_objective_metric': '', 'feature_dim': '3', 'k': '5'}\u001b[0m\n",
      "\u001b[34m[11/20/2021 11:10:21 WARNING 139648459515712] Loggers have already been setup.\u001b[0m\n",
      "\u001b[34mProcess 1 is a worker.\u001b[0m\n",
      "\u001b[34m[11/20/2021 11:10:21 INFO 139648459515712] Using default worker.\u001b[0m\n",
      "\u001b[34m[11/20/2021 11:10:21 INFO 139648459515712] Loaded iterator creator application/x-recordio-protobuf for content type ('application/x-recordio-protobuf', '1.0')\u001b[0m\n",
      "\u001b[34m[11/20/2021 11:10:21 INFO 139648459515712] Create Store: local\u001b[0m\n",
      "\u001b[34m[11/20/2021 11:10:21 INFO 139648459515712] nvidia-smi: took 0.033 seconds to run.\u001b[0m\n",
      "\u001b[34m[11/20/2021 11:10:21 INFO 139648459515712] nvidia-smi identified 0 GPUs.\u001b[0m\n",
      "\u001b[34m[11/20/2021 11:10:21 INFO 139648459515712] Number of GPUs being used: 0\u001b[0m\n",
      "\u001b[34m[11/20/2021 11:10:21 INFO 139648459515712] Checkpoint loading and saving are disabled.\u001b[0m\n",
      "\u001b[34m[11/20/2021 11:10:21 INFO 139648459515712] Setting up with params: {'init_method': 'random', 'mini_batch_size': '5000', 'epochs': '1', 'extra_center_factor': 'auto', 'local_lloyd_max_iter': '300', 'local_lloyd_tol': '0.0001', 'local_lloyd_init_method': 'kmeans++', 'local_lloyd_num_trials': 'auto', 'half_life_time_size': '0', 'eval_metrics': '[\"msd\"]', 'force_dense': 'True', '_disable_wait_to_read': 'false', '_enable_profiler': 'false', '_kvstore': 'auto', '_log_level': 'info', '_num_gpus': 'auto', '_num_kv_servers': '1', '_num_slices': '1', '_tuning_objective_metric': '', 'feature_dim': '3', 'k': '5'}\u001b[0m\n",
      "\u001b[34m[11/20/2021 11:10:21 INFO 139648459515712] 'extra_center_factor' was set to 'auto', evaluated to 10.\u001b[0m\n",
      "\u001b[34m[11/20/2021 11:10:21 INFO 139648459515712] Number of GPUs being used: 0\u001b[0m\n",
      "\u001b[34m[11/20/2021 11:10:21 INFO 139648459515712] number of center slices 1\u001b[0m\n",
      "\u001b[34m#metrics {\"StartTime\": 1637406621.712128, \"EndTime\": 1637406621.7122183, \"Dimensions\": {\"Algorithm\": \"AWS/KMeansWebscale\", \"Host\": \"algo-1\", \"Operation\": \"training\", \"Meta\": \"init_train_data_iter\"}, \"Metrics\": {\"Total Records Seen\": {\"sum\": 5000.0, \"count\": 1, \"min\": 5000, \"max\": 5000}, \"Total Batches Seen\": {\"sum\": 1.0, \"count\": 1, \"min\": 1, \"max\": 1}, \"Max Records Seen Between Resets\": {\"sum\": 5000.0, \"count\": 1, \"min\": 5000, \"max\": 5000}, \"Max Batches Seen Between Resets\": {\"sum\": 1.0, \"count\": 1, \"min\": 1, \"max\": 1}, \"Reset Count\": {\"sum\": 0.0, \"count\": 1, \"min\": 0, \"max\": 0}, \"Number of Records Since Last Reset\": {\"sum\": 5000.0, \"count\": 1, \"min\": 5000, \"max\": 5000}, \"Number of Batches Since Last Reset\": {\"sum\": 1.0, \"count\": 1, \"min\": 1, \"max\": 1}}}\u001b[0m\n",
      "\u001b[34m[2021-11-20 11:10:21.717] [tensorio] [info] epoch_stats={\"data_pipeline\": \"/opt/ml/input/data/train\", \"epoch\": 0, \"duration\": 49, \"num_examples\": 1, \"num_bytes\": 180000}\u001b[0m\n",
      "\u001b[34m[11/20/2021 11:10:21 INFO 139648459515712] Iter 10: Short term msd 0.012228. Long term msd 0.012446\u001b[0m\n",
      "\u001b[34m[2021-11-20 11:10:21.952] [tensorio] [info] epoch_stats={\"data_pipeline\": \"/opt/ml/input/data/train\", \"epoch\": 1, \"duration\": 234, \"num_examples\": 20, \"num_bytes\": 3459384}\u001b[0m\n",
      "\u001b[34m[11/20/2021 11:10:21 INFO 139648459515712] processed a total of 96094 examples\u001b[0m\n",
      "\u001b[34m[11/20/2021 11:10:21 INFO 139648459515712] #progress_metric: host=algo-1, completed 100.0 % of epochs\u001b[0m\n",
      "\u001b[34m#metrics {\"StartTime\": 1637406621.7174902, \"EndTime\": 1637406621.9528775, \"Dimensions\": {\"Algorithm\": \"AWS/KMeansWebscale\", \"Host\": \"algo-1\", \"Operation\": \"training\", \"epoch\": 0, \"Meta\": \"training_data_iter\"}, \"Metrics\": {\"Total Records Seen\": {\"sum\": 101094.0, \"count\": 1, \"min\": 101094, \"max\": 101094}, \"Total Batches Seen\": {\"sum\": 21.0, \"count\": 1, \"min\": 21, \"max\": 21}, \"Max Records Seen Between Resets\": {\"sum\": 96094.0, \"count\": 1, \"min\": 96094, \"max\": 96094}, \"Max Batches Seen Between Resets\": {\"sum\": 20.0, \"count\": 1, \"min\": 20, \"max\": 20}, \"Reset Count\": {\"sum\": 1.0, \"count\": 1, \"min\": 1, \"max\": 1}, \"Number of Records Since Last Reset\": {\"sum\": 96094.0, \"count\": 1, \"min\": 96094, \"max\": 96094}, \"Number of Batches Since Last Reset\": {\"sum\": 20.0, \"count\": 1, \"min\": 20, \"max\": 20}}}\u001b[0m\n",
      "\u001b[34m[11/20/2021 11:10:21 INFO 139648459515712] #throughput_metric: host=algo-1, train throughput=407988.1855024345 records/second\u001b[0m\n",
      "\u001b[34m[11/20/2021 11:10:21 WARNING 139648459515712] wait_for_all_workers will not sync workers since the kv store is not running distributed\u001b[0m\n",
      "\u001b[34m[11/20/2021 11:10:21 INFO 139648459515712] shrinking 50 centers into 5\u001b[0m\n",
      "\u001b[34m[11/20/2021 11:10:21 INFO 139648459515712] local kmeans attempt #0. Current mean square distance 0.079140\u001b[0m\n",
      "\u001b[34m[11/20/2021 11:10:22 INFO 139648459515712] local kmeans attempt #1. Current mean square distance 0.052093\u001b[0m\n",
      "\u001b[34m[11/20/2021 11:10:22 INFO 139648459515712] local kmeans attempt #2. Current mean square distance 0.052993\u001b[0m\n",
      "\u001b[34m[11/20/2021 11:10:22 INFO 139648459515712] local kmeans attempt #3. Current mean square distance 0.051381\u001b[0m\n",
      "\u001b[34m[11/20/2021 11:10:22 INFO 139648459515712] local kmeans attempt #4. Current mean square distance 0.050598\u001b[0m\n",
      "\u001b[34m[11/20/2021 11:10:22 INFO 139648459515712] local kmeans attempt #5. Current mean square distance 0.052993\u001b[0m\n",
      "\u001b[34m[11/20/2021 11:10:22 INFO 139648459515712] local kmeans attempt #6. Current mean square distance 0.053041\u001b[0m\n",
      "\u001b[34m[11/20/2021 11:10:22 INFO 139648459515712] local kmeans attempt #7. Current mean square distance 0.056569\u001b[0m\n",
      "\u001b[34m[11/20/2021 11:10:22 INFO 139648459515712] local kmeans attempt #8. Current mean square distance 0.050598\u001b[0m\n",
      "\u001b[34m[11/20/2021 11:10:22 INFO 139648459515712] local kmeans attempt #9. Current mean square distance 0.052993\u001b[0m\n",
      "\u001b[34m[11/20/2021 11:10:22 INFO 139648459515712] finished shrinking process. Mean Square Distance = 0\u001b[0m\n",
      "\u001b[34m[11/20/2021 11:10:22 INFO 139648459515712] #quality_metric: host=algo-1, train msd <loss>=0.050598036497831345\u001b[0m\n",
      "\u001b[34m[11/20/2021 11:10:22 INFO 139648459515712] predict compute msd took: 25.8563%, (0.062028 secs)\u001b[0m\n",
      "\u001b[34m[11/20/2021 11:10:22 INFO 139648459515712] compute all data-center distances: inner product took: 22.9604%, (0.055081 secs)\u001b[0m\n",
      "\u001b[34m[11/20/2021 11:10:22 INFO 139648459515712] gradient: cluster size  took: 12.9211%, (0.030997 secs)\u001b[0m\n",
      "\u001b[34m[11/20/2021 11:10:22 INFO 139648459515712] gradient: cluster center took: 8.7020%, (0.020876 secs)\u001b[0m\n",
      "\u001b[34m[11/20/2021 11:10:22 INFO 139648459515712] collect from kv store took: 5.4697%, (0.013122 secs)\u001b[0m\n",
      "\u001b[34m[11/20/2021 11:10:22 INFO 139648459515712] compute all data-center distances: point norm took: 5.0711%, (0.012165 secs)\u001b[0m\n",
      "\u001b[34m[11/20/2021 11:10:22 INFO 139648459515712] update state and report convergance took: 4.9033%, (0.011763 secs)\u001b[0m\n",
      "\u001b[34m[11/20/2021 11:10:22 INFO 139648459515712] batch data loading with context took: 4.4385%, (0.010648 secs)\u001b[0m\n",
      "\u001b[34m[11/20/2021 11:10:22 INFO 139648459515712] splitting centers key-value pair took: 4.2311%, (0.010150 secs)\u001b[0m\n",
      "\u001b[34m[11/20/2021 11:10:22 INFO 139648459515712] gradient: one_hot took: 4.0211%, (0.009646 secs)\u001b[0m\n",
      "\u001b[34m[11/20/2021 11:10:22 INFO 139648459515712] compute all data-center distances: center norm took: 1.1667%, (0.002799 secs)\u001b[0m\n",
      "\u001b[34m[11/20/2021 11:10:22 INFO 139648459515712] predict minus dist took: 0.1577%, (0.000378 secs)\u001b[0m\n",
      "\u001b[34m[11/20/2021 11:10:22 INFO 139648459515712] update set-up time took: 0.1011%, (0.000242 secs)\u001b[0m\n",
      "\u001b[34m[11/20/2021 11:10:22 INFO 139648459515712] TOTAL took: 0.2398967742919922\u001b[0m\n",
      "\u001b[34m[11/20/2021 11:10:22 INFO 139648459515712] Number of GPUs being used: 0\u001b[0m\n",
      "\u001b[34m#metrics {\"StartTime\": 1637406621.667834, \"EndTime\": 1637406622.2091408, \"Dimensions\": {\"Algorithm\": \"AWS/KMeansWebscale\", \"Host\": \"algo-1\", \"Operation\": \"training\"}, \"Metrics\": {\"initialize.time\": {\"sum\": 33.9360237121582, \"count\": 1, \"min\": 33.9360237121582, \"max\": 33.9360237121582}, \"epochs\": {\"sum\": 1.0, \"count\": 1, \"min\": 1, \"max\": 1}, \"update.time\": {\"sum\": 235.1858615875244, \"count\": 1, \"min\": 235.1858615875244, \"max\": 235.1858615875244}, \"_shrink.time\": {\"sum\": 251.2338161468506, \"count\": 1, \"min\": 251.2338161468506, \"max\": 251.2338161468506}, \"finalize.time\": {\"sum\": 253.39603424072266, \"count\": 1, \"min\": 253.39603424072266, \"max\": 253.39603424072266}, \"model.serialize.time\": {\"sum\": 2.513885498046875, \"count\": 1, \"min\": 2.513885498046875, \"max\": 2.513885498046875}}}\u001b[0m\n",
      "\u001b[34m[11/20/2021 11:10:22 INFO 139648459515712] Test data is not provided.\u001b[0m\n",
      "\u001b[34m#metrics {\"StartTime\": 1637406622.209226, \"EndTime\": 1637406622.209497, \"Dimensions\": {\"Algorithm\": \"AWS/KMeansWebscale\", \"Host\": \"algo-1\", \"Operation\": \"training\"}, \"Metrics\": {\"setuptime\": {\"sum\": 17.200469970703125, \"count\": 1, \"min\": 17.200469970703125, \"max\": 17.200469970703125}, \"totaltime\": {\"sum\": 622.3578453063965, \"count\": 1, \"min\": 622.3578453063965, \"max\": 622.3578453063965}}}\u001b[0m\n",
      "\n",
      "2021-11-20 11:10:53 Uploading - Uploading generated training model\n",
      "2021-11-20 11:10:53 Completed - Training job completed\n",
      "Training seconds: 41\n",
      "Billable seconds: 41\n",
      "CPU times: user 1.74 s, sys: 35.8 ms, total: 1.78 s\n",
      "Wall time: 4min 44s\n"
     ]
    }
   ],
   "source": [
    "%%time\n",
    "kmeans.fit(kmeans.record_set(train_data))"
   ]
  },
  {
   "cell_type": "markdown",
   "metadata": {},
   "source": [
    "Now we deploy the model, and we can pass in the original training set to get the labels for each entry. This will give us which cluster each county belongs to."
   ]
  },
  {
   "cell_type": "code",
   "execution_count": 37,
   "metadata": {},
   "outputs": [
    {
     "name": "stderr",
     "output_type": "stream",
     "text": [
      "Defaulting to the only supported framework/algorithm version: 1. Ignoring framework/algorithm version: 1.\n"
     ]
    },
    {
     "name": "stdout",
     "output_type": "stream",
     "text": [
      "----------!CPU times: user 154 ms, sys: 4.43 ms, total: 158 ms\n",
      "Wall time: 5min 1s\n"
     ]
    }
   ],
   "source": [
    "%%time\n",
    "kmeans_predictor = kmeans.deploy(initial_instance_count=1, instance_type=\"ml.t2.medium\")"
   ]
  },
  {
   "cell_type": "code",
   "execution_count": 38,
   "metadata": {},
   "outputs": [
    {
     "name": "stdout",
     "output_type": "stream",
     "text": [
      "CPU times: user 4.28 s, sys: 81.5 ms, total: 4.36 s\n",
      "Wall time: 6.88 s\n"
     ]
    }
   ],
   "source": [
    "%%time\n",
    "result = kmeans_predictor.predict(train_data)"
   ]
  },
  {
   "cell_type": "markdown",
   "metadata": {},
   "source": [
    "We can see the breakdown of cluster counts and the distribution of clusters."
   ]
  },
  {
   "cell_type": "code",
   "execution_count": 39,
   "metadata": {},
   "outputs": [],
   "source": [
    "cluster_labels = [r.label[\"closest_cluster\"].float32_tensor.values[0] for r in result]"
   ]
  },
  {
   "cell_type": "code",
   "execution_count": 40,
   "metadata": {},
   "outputs": [
    {
     "data": {
      "text/plain": [
       "2.0    26224\n",
       "4.0    22397\n",
       "0.0    20381\n",
       "1.0    15692\n",
       "3.0    11400\n",
       "Name: 0, dtype: int64"
      ]
     },
     "execution_count": 40,
     "metadata": {},
     "output_type": "execute_result"
    }
   ],
   "source": [
    "pd.DataFrame(cluster_labels)[0].value_counts()"
   ]
  },
  {
   "cell_type": "code",
   "execution_count": 41,
   "metadata": {},
   "outputs": [
    {
     "name": "stderr",
     "output_type": "stream",
     "text": [
      "/home/ec2-user/anaconda3/envs/mxnet_p36/lib/python3.6/site-packages/seaborn/distributions.py:2557: FutureWarning: `distplot` is a deprecated function and will be removed in a future version. Please adapt your code to use either `displot` (a figure-level function with similar flexibility) or `histplot` (an axes-level function for histograms).\n",
      "  warnings.warn(msg, FutureWarning)\n"
     ]
    },
    {
     "data": {
      "image/png": "[encoded data removed]",
      "text/plain": [
       "<Figure size 432x216 with 1 Axes>"
      ]
     },
     "metadata": {},
     "output_type": "display_data"
    }
   ],
   "source": [
    "ax = plt.subplots(figsize=(6, 3))\n",
    "ax = sns.distplot(cluster_labels, kde=False)\n",
    "title = \"Histogram of Cluster Counts\"\n",
    "ax.set_title(title, fontsize=12)\n",
    "plt.show()"
   ]
  },
  {
   "cell_type": "markdown",
   "metadata": {},
   "source": [
    "However, to improve `explainability`, we need to access the underlying model to get the cluster centers. These centers will help describe which features characterize each cluster."
   ]
  },
  {
   "cell_type": "markdown",
   "metadata": {},
   "source": [
    "## Step 4: Drawing conclusions from our modelling\n",
    "\n",
    "Explaining the result of the modelling is an important step in making use of our analysis. The information contained in the model attributes within an Amazon SageMaker trained model, we can form concrete conclusions based on the data."
   ]
  },
  {
   "cell_type": "markdown",
   "metadata": {},
   "source": [
    "### a. Accessing the KMeans model attributes - ***WIP***\n",
    "\n",
    "First, we will go into the bucket where the `KMeans` model is stored and extract it."
   ]
  },
  {
   "cell_type": "code",
   "execution_count": 44,
   "metadata": {},
   "outputs": [
    {
     "data": {
      "text/plain": [
       "0"
      ]
     },
     "execution_count": 44,
     "metadata": {},
     "output_type": "execute_result"
    }
   ],
   "source": [
    "job_name = kmeans.latest_training_job.name\n",
    "model_key = \"clustering_output/\" + job_name + \"/output/model.tar.gz\"\n",
    "\n",
    "boto3.resource(\"s3\").Bucket(data_bucket_name).download_file(model_key, \"model.tar.gz\")\n",
    "os.system(\"tar -zxvf model.tar.gz\")"
   ]
  },
  {
   "cell_type": "code",
   "execution_count": 45,
   "metadata": {},
   "outputs": [],
   "source": [
    "Kmeans_model_params = mx.ndarray.load(\"model_algo-1\")"
   ]
  },
  {
   "cell_type": "markdown",
   "metadata": {},
   "source": [
    "**There is 1 set of model parameters that is contained within the KMeans model.**\n",
    "\n",
    "**Cluster Centroid Locations**: The location of the centers of each cluster identified by the `KMeans` algorithm. The cluster location is given in our `PCA` transformed space with 5 components, since we passed the transformed `PCA` data into the model."
   ]
  },
  {
   "cell_type": "code",
   "execution_count": 46,
   "metadata": {},
   "outputs": [],
   "source": [
    "cluster_centroids = pd.DataFrame(Kmeans_model_params[0].asnumpy())\n",
    "cluster_centroids.columns = customers.columns"
   ]
  },
  {
   "cell_type": "code",
   "execution_count": 47,
   "metadata": {},
   "outputs": [
    {
     "data": {
      "text/html": [
       "<div>\n",
       "<style scoped>\n",
       "    .dataframe tbody tr th:only-of-type {\n",
       "        vertical-align: middle;\n",
       "    }\n",
       "\n",
       "    .dataframe tbody tr th {\n",
       "        vertical-align: top;\n",
       "    }\n",
       "\n",
       "    .dataframe thead th {\n",
       "        text-align: right;\n",
       "    }\n",
       "</style>\n",
       "<table border=\"1\" class=\"dataframe\">\n",
       "  <thead>\n",
       "    <tr style=\"text-align: right;\">\n",
       "      <th></th>\n",
       "      <th>0.36360</th>\n",
       "      <th>0.0000</th>\n",
       "      <th>0.0390</th>\n",
       "    </tr>\n",
       "  </thead>\n",
       "  <tbody>\n",
       "    <tr>\n",
       "      <th>0</th>\n",
       "      <td>0.634398</td>\n",
       "      <td>0.017011</td>\n",
       "      <td>0.055366</td>\n",
       "    </tr>\n",
       "    <tr>\n",
       "      <th>1</th>\n",
       "      <td>2.828810</td>\n",
       "      <td>0.008801</td>\n",
       "      <td>0.058741</td>\n",
       "    </tr>\n",
       "    <tr>\n",
       "      <th>2</th>\n",
       "      <td>1.330940</td>\n",
       "      <td>0.007499</td>\n",
       "      <td>0.060912</td>\n",
       "    </tr>\n",
       "    <tr>\n",
       "      <th>3</th>\n",
       "      <td>3.650276</td>\n",
       "      <td>0.006419</td>\n",
       "      <td>0.056303</td>\n",
       "    </tr>\n",
       "    <tr>\n",
       "      <th>4</th>\n",
       "      <td>2.064080</td>\n",
       "      <td>0.008906</td>\n",
       "      <td>0.056788</td>\n",
       "    </tr>\n",
       "  </tbody>\n",
       "</table>\n",
       "</div>"
      ],
      "text/plain": [
       "    0.36360    0.0000    0.0390\n",
       "0  0.634398  0.017011  0.055366\n",
       "1  2.828810  0.008801  0.058741\n",
       "2  1.330940  0.007499  0.060912\n",
       "3  3.650276  0.006419  0.056303\n",
       "4  2.064080  0.008906  0.056788"
      ]
     },
     "execution_count": 47,
     "metadata": {},
     "output_type": "execute_result"
    }
   ],
   "source": [
    "cluster_centroids"
   ]
  },
  {
   "cell_type": "markdown",
   "metadata": {},
   "source": [
    "We can plot a heatmap of the centroids and their location in the transformed feature space. This gives us insight into what characteristics define each cluster. Often with unsupervised learning, results are hard to interpret. This is one way to make use of the results of PCA plus clustering techniques together. Since we were able to examine the makeup of each PCA component, we can understand what each centroid represents in terms of the `PCA` components that we interpreted previously.\n",
    "\n",
    "For example, we can see that cluster 1 has the highest value in the \"Construction & Commuters\" attribute while it has the lowest value in the \"Self Employment/Public Workers\" attribute compared with other clusters. Similarly, cluster 4 has high values in \"Construction & Commuters,\" \"High Income/Professional & Office Workers,\" and \"Self Employment/Public Workers.\""
   ]
  },
  {
   "cell_type": "code",
   "execution_count": 52,
   "metadata": {},
   "outputs": [
    {
     "data": {
      "image/png": "[encoded data removed]",
      "text/plain": [
       "<Figure size 1440x720 with 2 Axes>"
      ]
     },
     "metadata": {},
     "output_type": "display_data"
    }
   ],
   "source": [
    "plt.figure(figsize=(20, 10))\n",
    "ax = sns.heatmap(customers.T, cmap=\"Wistia_r\")\n",
    "ax.set_xlabel(\"Cluster\")\n",
    "plt.yticks(fontsize=16)\n",
    "plt.xticks(fontsize=16)\n",
    "ax.set_title(\"Attribute Value by Centroid\")\n",
    "plt.show()"
   ]
  },
  {
   "cell_type": "markdown",
   "metadata": {},
   "source": [
    "###### Because endpoints are persistent, let’s delete our endpoints now that we’re done to avoid any excess charges on our AWS bill."
   ]
  },
  {
   "cell_type": "code",
   "execution_count": null,
   "metadata": {},
   "outputs": [],
   "source": [
    "pca_predictor.delete_endpoint()"
   ]
  },
  {
   "cell_type": "code",
   "execution_count": null,
   "metadata": {},
   "outputs": [],
   "source": [
    "kmeans_predictor.delete_endpoint()"
   ]
  },
  {
   "cell_type": "code",
   "execution_count": null,
   "metadata": {},
   "outputs": [],
   "source": []
  }
 ],
 "metadata": {
  "celltoolbar": "Tags",
  "instance_type": "ml.t3.medium",
  "kernelspec": {
   "display_name": "conda_mxnet_p36",
   "language": "python",
   "name": "conda_mxnet_p36"
  },
  "language_info": {
   "codemirror_mode": {
    "name": "ipython",
    "version": 3
   },
   "file_extension": ".py",
   "mimetype": "text/x-python",
   "name": "python",
   "nbconvert_exporter": "python",
   "pygments_lexer": "ipython3",
   "version": "3.6.13"
  },
  "nbpresent": {
   "slides": {
    "00185e5a-e023-4efa-9b74-1d4003fed039": {
     "id": "00185e5a-e023-4efa-9b74-1d4003fed039",
     "prev": "245581e9-468f-4d78-a748-0c3bdc5cb82a",
     "regions": {
      "691d980e-e884-402b-bedf-94142409e67a": {
       "attrs": {
        "height": 0.8,
        "width": 0.8,
        "x": 0.1,
        "y": 0.1
       },
       "content": {
        "cell": "479ad6be-6ef5-4a23-83fa-5a3438bed78c",
        "part": "whole"
       },
       "id": "691d980e-e884-402b-bedf-94142409e67a"
      }
     }
    },
    "04c02612-b7a3-4a6b-b46e-f0b64285f34f": {
     "id": "04c02612-b7a3-4a6b-b46e-f0b64285f34f",
     "prev": "cb224ddf-91c8-4058-a92c-589888536dce",
     "regions": {
      "15ef2157-6262-4d93-9646-01c5229cdc2e": {
       "attrs": {
        "height": 0.8,
        "width": 0.8,
        "x": 0.1,
        "y": 0.1
       },
       "content": {
        "cell": "479ad6be-6ef5-4a23-83fa-5a3438bed78c",
        "part": "whole"
       },
       "id": "15ef2157-6262-4d93-9646-01c5229cdc2e"
      }
     }
    },
    "0c825f9e-60ad-44b9-a3a9-32977b6dc07b": {
     "id": "0c825f9e-60ad-44b9-a3a9-32977b6dc07b",
     "prev": "3031125b-46a7-453f-8405-d51270217fed",
     "regions": {
      "5800e24d-5f1b-47f5-8cb8-5841666497ec": {
       "attrs": {
        "height": 0.8,
        "width": 0.8,
        "x": 0.1,
        "y": 0.1
       },
       "content": {
        "cell": "c2f7177c-9a56-46a7-8e51-53c1ccdac759",
        "part": "whole"
       },
       "id": "5800e24d-5f1b-47f5-8cb8-5841666497ec"
      }
     }
    },
    "0d1a4ca3-9779-41bc-a0b3-d212cb7d4a8c": {
     "id": "0d1a4ca3-9779-41bc-a0b3-d212cb7d4a8c",
     "prev": "e96ea25d-f12d-4df2-9229-29bbb6f89e57",
     "regions": {
      "73ea6e42-198b-45f7-90c0-76be78ca9873": {
       "attrs": {
        "height": 0.8,
        "width": 0.8,
        "x": 0.1,
        "y": 0.1
       },
       "content": {
        "cell": "05579e7a-be31-4942-a9a9-9f087cc284ff",
        "part": "whole"
       },
       "id": "73ea6e42-198b-45f7-90c0-76be78ca9873"
      }
     }
    },
    "0d8fa08d-7d0f-4378-8065-26382e5a86e2": {
     "id": "0d8fa08d-7d0f-4378-8065-26382e5a86e2",
     "prev": "2102ebf0-1bc1-493a-a8d2-e134b767f101",
     "regions": {
      "559c72a7-aebd-454e-aace-1ac4a1b01922": {
       "attrs": {
        "height": 0.8,
        "width": 0.8,
        "x": 0.1,
        "y": 0.1
       },
       "content": {
        "cell": "a3c4d54d-1c66-4511-9276-0a976adc27a3",
        "part": "whole"
       },
       "id": "559c72a7-aebd-454e-aace-1ac4a1b01922"
      }
     }
    },
    "0d98a2ee-ba72-4111-83eb-8ca87082100e": {
     "id": "0d98a2ee-ba72-4111-83eb-8ca87082100e",
     "prev": "a52fcace-21c6-4d27-9ee8-f87e06b1bf4b",
     "regions": {
      "f25816e9-e51b-4625-b61c-bea7755373a2": {
       "attrs": {
        "height": 0.8,
        "width": 0.8,
        "x": 0.1,
        "y": 0.1
       },
       "content": {
        "cell": "eb6724ef-65dc-4f74-b92c-3f9e540a7b35",
        "part": "whole"
       },
       "id": "f25816e9-e51b-4625-b61c-bea7755373a2"
      }
     }
    },
    "0eab16c6-3c1a-4f9c-a6d9-a1cf6220a9a2": {
     "id": "0eab16c6-3c1a-4f9c-a6d9-a1cf6220a9a2",
     "prev": "5caa41a3-a416-4b62-ad94-9efc601a0761",
     "regions": {
      "752c114b-e55a-40c2-b1d5-a646253c012a": {
       "attrs": {
        "height": 0.8,
        "width": 0.8,
        "x": 0.1,
        "y": 0.1
       },
       "content": {
        "cell": "a3c4d54d-1c66-4511-9276-0a976adc27a3",
        "part": "whole"
       },
       "id": "752c114b-e55a-40c2-b1d5-a646253c012a"
      }
     }
    },
    "0f0856fc-b72e-4a9e-9279-f0b70282084a": {
     "id": "0f0856fc-b72e-4a9e-9279-f0b70282084a",
     "prev": "4c3af69f-0dbf-4538-a217-4674c220e1ce",
     "regions": {
      "07c3f079-7bf9-4e7c-b073-93c94568b5f8": {
       "attrs": {
        "height": 0.8,
        "width": 0.8,
        "x": 0.1,
        "y": 0.1
       },
       "content": {
        "cell": "a3c4d54d-1c66-4511-9276-0a976adc27a3",
        "part": "whole"
       },
       "id": "07c3f079-7bf9-4e7c-b073-93c94568b5f8"
      }
     }
    },
    "127a45d8-ef23-4438-9cb9-c721e712e2ad": {
     "id": "127a45d8-ef23-4438-9cb9-c721e712e2ad",
     "prev": null,
     "regions": {
      "1014f9bc-a908-4bb1-b5f4-6d5fafbcacad": {
       "attrs": {
        "height": 0.8,
        "width": 0.8,
        "x": 0.1,
        "y": 0.1
       },
       "content": {
        "cell": "62d4851b-e85e-419e-901a-d5c03db59166",
        "part": "whole"
       },
       "id": "1014f9bc-a908-4bb1-b5f4-6d5fafbcacad"
      }
     }
    },
    "137bd8ba-62fa-4977-aa92-299716a1b575": {
     "id": "137bd8ba-62fa-4977-aa92-299716a1b575",
     "prev": "f89c8884-cb84-4930-a1c4-451008b047e0",
     "regions": {
      "c3c3c631-e394-4d86-8efd-f7e297da7c54": {
       "attrs": {
        "height": 0.8,
        "width": 0.8,
        "x": 0.1,
        "y": 0.1
       },
       "content": {
        "cell": "af0acd3e-f4a3-4da9-9772-6a6f896da772",
        "part": "whole"
       },
       "id": "c3c3c631-e394-4d86-8efd-f7e297da7c54"
      }
     }
    },
    "1b7fa3bc-7a7d-426c-ba1d-4fe4d2c63787": {
     "id": "1b7fa3bc-7a7d-426c-ba1d-4fe4d2c63787",
     "prev": "32b3f4bb-8a93-4047-871d-64dc33e51dc9",
     "regions": {
      "3c58bd34-7325-4848-ab56-a27006aa72eb": {
       "attrs": {
        "height": 0.8,
        "width": 0.8,
        "x": 0.1,
        "y": 0.1
       },
       "content": {
        "cell": "af0acd3e-f4a3-4da9-9772-6a6f896da772",
        "part": "whole"
       },
       "id": "3c58bd34-7325-4848-ab56-a27006aa72eb"
      }
     }
    },
    "1e649c44-6543-47ab-a724-d8c91a1eba0c": {
     "id": "1e649c44-6543-47ab-a724-d8c91a1eba0c",
     "prev": "2479aa16-61a7-448b-87fc-123ed194b826",
     "regions": {
      "5ff777a3-74e6-4424-8b17-f9c9bc680bbf": {
       "attrs": {
        "height": 0.8,
        "width": 0.8,
        "x": 0.1,
        "y": 0.1
       },
       "content": {
        "cell": "479ad6be-6ef5-4a23-83fa-5a3438bed78c",
        "part": "whole"
       },
       "id": "5ff777a3-74e6-4424-8b17-f9c9bc680bbf"
      }
     }
    },
    "206a856d-3055-461c-8169-ffee8f39c28e": {
     "id": "206a856d-3055-461c-8169-ffee8f39c28e",
     "prev": "8bbf13ba-d21a-4e20-b6fb-8248fbcb7d14",
     "regions": {
      "ebb2b7a1-4e2a-4a3a-a3c2-a7fcc8c01ab2": {
       "attrs": {
        "height": 0.8,
        "width": 0.8,
        "x": 0.1,
        "y": 0.1
       },
       "content": {
        "cell": "823d3663-8326-493a-a3fc-19b7114ef367",
        "part": "whole"
       },
       "id": "ebb2b7a1-4e2a-4a3a-a3c2-a7fcc8c01ab2"
      }
     }
    },
    "2102ebf0-1bc1-493a-a8d2-e134b767f101": {
     "id": "2102ebf0-1bc1-493a-a8d2-e134b767f101",
     "prev": "f2d04c15-4d2b-4c7e-992a-72c2b870c759",
     "regions": {
      "e75754ca-229a-4f43-8365-3ded5c65beb2": {
       "attrs": {
        "height": 0.8,
        "width": 0.8,
        "x": 0.1,
        "y": 0.1
       },
       "content": {
        "cell": "db543249-4452-45e1-a0fa-324296059f19",
        "part": "whole"
       },
       "id": "e75754ca-229a-4f43-8365-3ded5c65beb2"
      }
     }
    },
    "218a5d27-8c88-4475-9c19-04b6af5781ed": {
     "id": "218a5d27-8c88-4475-9c19-04b6af5781ed",
     "prev": "b6a3e0da-299e-4ed2-b91b-2acffd354cdf",
     "regions": {
      "3adede6c-7a8d-4918-8f7a-12114603f37a": {
       "attrs": {
        "height": 0.8,
        "width": 0.8,
        "x": 0.1,
        "y": 0.1
       },
       "content": {
        "cell": "c2f7177c-9a56-46a7-8e51-53c1ccdac759",
        "part": "whole"
       },
       "id": "3adede6c-7a8d-4918-8f7a-12114603f37a"
      }
     }
    },
    "2199474d-0f28-43f0-b05c-38e712655efe": {
     "id": "2199474d-0f28-43f0-b05c-38e712655efe",
     "prev": "bf0895a0-bc5b-466d-a091-07382c006dd6",
     "regions": {
      "d55f819b-e696-47f8-ae49-51e4fde22a3e": {
       "attrs": {
        "height": 0.8,
        "width": 0.8,
        "x": 0.1,
        "y": 0.1
       },
       "content": {
        "cell": "a3c4d54d-1c66-4511-9276-0a976adc27a3",
        "part": "whole"
       },
       "id": "d55f819b-e696-47f8-ae49-51e4fde22a3e"
      }
     }
    },
    "22126885-b04a-4cd1-b348-0dc9a5b353d1": {
     "id": "22126885-b04a-4cd1-b348-0dc9a5b353d1",
     "prev": "137bd8ba-62fa-4977-aa92-299716a1b575",
     "regions": {
      "401e60a1-ff77-4870-93f7-aa377a66983e": {
       "attrs": {
        "height": 0.8,
        "width": 0.8,
        "x": 0.1,
        "y": 0.1
       },
       "content": {
        "cell": "db543249-4452-45e1-a0fa-324296059f19",
        "part": "whole"
       },
       "id": "401e60a1-ff77-4870-93f7-aa377a66983e"
      }
     }
    },
    "22ac0a05-fa20-4071-9eeb-0cd7e8bc1495": {
     "id": "22ac0a05-fa20-4071-9eeb-0cd7e8bc1495",
     "prev": "54e37292-6b6a-42a2-b2d9-2526c00a35b6",
     "regions": {
      "f0328d95-4730-47f5-b7d7-332ab52f31df": {
       "attrs": {
        "height": 0.8,
        "width": 0.8,
        "x": 0.1,
        "y": 0.1
       },
       "content": {
        "cell": "d266ff00-54d6-47f7-a26c-eea6cd1e468f",
        "part": "whole"
       },
       "id": "f0328d95-4730-47f5-b7d7-332ab52f31df"
      }
     }
    },
    "245581e9-468f-4d78-a748-0c3bdc5cb82a": {
     "id": "245581e9-468f-4d78-a748-0c3bdc5cb82a",
     "prev": "963feba9-0d2a-4c66-85cc-96d2fc723e8e",
     "regions": {
      "e61eaae3-5014-424c-bd4e-df22507d29af": {
       "attrs": {
        "height": 0.8,
        "width": 0.8,
        "x": 0.1,
        "y": 0.1
       },
       "content": {
        "cell": "e1d4e5a9-715b-412f-b881-5306080566d0",
        "part": "whole"
       },
       "id": "e61eaae3-5014-424c-bd4e-df22507d29af"
      }
     }
    },
    "2479aa16-61a7-448b-87fc-123ed194b826": {
     "id": "2479aa16-61a7-448b-87fc-123ed194b826",
     "prev": "0d98a2ee-ba72-4111-83eb-8ca87082100e",
     "regions": {
      "06a7635a-7143-4bd9-888a-636071ed94b2": {
       "attrs": {
        "height": 0.8,
        "width": 0.8,
        "x": 0.1,
        "y": 0.1
       },
       "content": {
        "cell": "e1d4e5a9-715b-412f-b881-5306080566d0",
        "part": "whole"
       },
       "id": "06a7635a-7143-4bd9-888a-636071ed94b2"
      }
     }
    },
    "24ebeb55-bda2-46aa-b01d-2eb1e08ec4b9": {
     "id": "24ebeb55-bda2-46aa-b01d-2eb1e08ec4b9",
     "prev": "3836b696-9da4-4822-a1a4-1c8a7f016e93",
     "regions": {
      "1c9d0303-cc0c-4556-9456-55413d4b1a37": {
       "attrs": {
        "height": 0.8,
        "width": 0.8,
        "x": 0.1,
        "y": 0.1
       },
       "content": {
        "cell": "6e941245-3e15-4018-a947-9e66bc58c86e",
        "part": "whole"
       },
       "id": "1c9d0303-cc0c-4556-9456-55413d4b1a37"
      }
     }
    },
    "29c82185-c087-4da1-820d-e67d6f607544": {
     "id": "29c82185-c087-4da1-820d-e67d6f607544",
     "prev": "e1f94e70-f7b9-4d99-94c3-01f0f0a8251d",
     "regions": {
      "75915c00-90cb-4965-8dca-f1e7fc5c150d": {
       "attrs": {
        "height": 0.8,
        "width": 0.8,
        "x": 0.1,
        "y": 0.1
       },
       "content": {
        "cell": "d266ff00-54d6-47f7-a26c-eea6cd1e468f",
        "part": "whole"
       },
       "id": "75915c00-90cb-4965-8dca-f1e7fc5c150d"
      }
     }
    },
    "2d6a9841-621c-4219-9bd2-c010aac01f3a": {
     "id": "2d6a9841-621c-4219-9bd2-c010aac01f3a",
     "prev": "354d2e1c-833c-43c1-8518-84deefa9dd83",
     "regions": {
      "3366de71-d77a-4bf3-bc86-9da3afe09d58": {
       "attrs": {
        "height": 0.8,
        "width": 0.8,
        "x": 0.1,
        "y": 0.1
       },
       "content": {
        "cell": "af0acd3e-f4a3-4da9-9772-6a6f896da772",
        "part": "whole"
       },
       "id": "3366de71-d77a-4bf3-bc86-9da3afe09d58"
      }
     }
    },
    "2eb5b91d-2f89-4478-a871-9ebabfe8c755": {
     "id": "2eb5b91d-2f89-4478-a871-9ebabfe8c755",
     "prev": "3c39b8cb-b3ee-42a8-b58a-23f42dd1afb7",
     "regions": {
      "dbd82ff9-f97d-4b4e-9181-2757bd864899": {
       "attrs": {
        "height": 0.8,
        "width": 0.8,
        "x": 0.1,
        "y": 0.1
       },
       "content": {
        "cell": "fdd10c00-53ba-405d-8622-fbfeac17d3bb",
        "part": "whole"
       },
       "id": "dbd82ff9-f97d-4b4e-9181-2757bd864899"
      }
     }
    },
    "2f879b6f-c9ea-44d7-91e7-9baa9101dcde": {
     "id": "2f879b6f-c9ea-44d7-91e7-9baa9101dcde",
     "prev": "43ecdc28-ce1b-4c27-a143-3b0f6dfaa54f",
     "regions": {
      "7e27878d-50e3-4a78-ab08-81e37b035c95": {
       "attrs": {
        "height": 0.8,
        "width": 0.8,
        "x": 0.1,
        "y": 0.1
       },
       "content": {
        "cell": "ecdacfd7-456b-4b29-9c7d-aba29749c18f",
        "part": "whole"
       },
       "id": "7e27878d-50e3-4a78-ab08-81e37b035c95"
      }
     }
    },
    "3031125b-46a7-453f-8405-d51270217fed": {
     "id": "3031125b-46a7-453f-8405-d51270217fed",
     "prev": "41f1ac43-20aa-4be5-98e4-359d8294fa5a",
     "regions": {
      "487fc265-9057-4a2f-a5ae-5910bb803e6d": {
       "attrs": {
        "height": 0.8,
        "width": 0.8,
        "x": 0.1,
        "y": 0.1
       },
       "content": {
        "cell": "97a46770-dbe0-40ea-b454-b15bdec20f53",
        "part": "whole"
       },
       "id": "487fc265-9057-4a2f-a5ae-5910bb803e6d"
      }
     }
    },
    "32b3f4bb-8a93-4047-871d-64dc33e51dc9": {
     "id": "32b3f4bb-8a93-4047-871d-64dc33e51dc9",
     "prev": "cced8bf0-fff7-4aa8-a171-61b61bb5f70b",
     "regions": {
      "57d063fd-764a-4f6d-bfd7-1d91702b8e3a": {
       "attrs": {
        "height": 0.8,
        "width": 0.8,
        "x": 0.1,
        "y": 0.1
       },
       "content": {
        "cell": "ecdacfd7-456b-4b29-9c7d-aba29749c18f",
        "part": "whole"
       },
       "id": "57d063fd-764a-4f6d-bfd7-1d91702b8e3a"
      }
     }
    },
    "33eed3c0-aa11-4eeb-a2d8-e38080594622": {
     "id": "33eed3c0-aa11-4eeb-a2d8-e38080594622",
     "prev": "39b995da-8164-4191-97fa-126bbe9a9c13",
     "regions": {
      "fd63566a-8284-4ba0-ac22-e6e987ad37c4": {
       "attrs": {
        "height": 0.8,
        "width": 0.8,
        "x": 0.1,
        "y": 0.1
       },
       "content": {
        "cell": "479ad6be-6ef5-4a23-83fa-5a3438bed78c",
        "part": "whole"
       },
       "id": "fd63566a-8284-4ba0-ac22-e6e987ad37c4"
      }
     }
    },
    "351921d3-3e52-4de7-ac14-e2d065745a4c": {
     "id": "351921d3-3e52-4de7-ac14-e2d065745a4c",
     "prev": "73b93342-b297-40d2-83fa-0a5c3569b07b",
     "regions": {
      "6f34315e-6c22-4c7e-abb7-4090206c8fc7": {
       "attrs": {
        "height": 0.8,
        "width": 0.8,
        "x": 0.1,
        "y": 0.1
       },
       "content": {
        "cell": "05579e7a-be31-4942-a9a9-9f087cc284ff",
        "part": "whole"
       },
       "id": "6f34315e-6c22-4c7e-abb7-4090206c8fc7"
      }
     }
    },
    "354d2e1c-833c-43c1-8518-84deefa9dd83": {
     "id": "354d2e1c-833c-43c1-8518-84deefa9dd83",
     "prev": "644939af-71cf-4118-b725-186deee66293",
     "regions": {
      "b3d5c164-fdec-4ff4-a7bb-ed51d0b5a7b1": {
       "attrs": {
        "height": 0.8,
        "width": 0.8,
        "x": 0.1,
        "y": 0.1
       },
       "content": {
        "cell": "ecdacfd7-456b-4b29-9c7d-aba29749c18f",
        "part": "whole"
       },
       "id": "b3d5c164-fdec-4ff4-a7bb-ed51d0b5a7b1"
      }
     }
    },
    "37d0d82e-1379-4317-93cf-784cec2d5a7e": {
     "id": "37d0d82e-1379-4317-93cf-784cec2d5a7e",
     "prev": null,
     "regions": {
      "3a9f28d5-edac-42fb-a77d-ea8bf091c5f2": {
       "attrs": {
        "height": 0.8,
        "width": 0.8,
        "x": 0.1,
        "y": 0.1
       },
       "content": {
        "cell": "62d4851b-e85e-419e-901a-d5c03db59166",
        "part": "whole"
       },
       "id": "3a9f28d5-edac-42fb-a77d-ea8bf091c5f2"
      }
     }
    },
    "3836b696-9da4-4822-a1a4-1c8a7f016e93": {
     "id": "3836b696-9da4-4822-a1a4-1c8a7f016e93",
     "prev": "1e649c44-6543-47ab-a724-d8c91a1eba0c",
     "regions": {
      "5fbd00ec-19d3-492e-968b-da323b10e954": {
       "attrs": {
        "height": 0.8,
        "width": 0.8,
        "x": 0.1,
        "y": 0.1
       },
       "content": {
        "cell": "ba9ad1d9-659e-4fad-a0fd-0a23e7b56fc0",
        "part": "whole"
       },
       "id": "5fbd00ec-19d3-492e-968b-da323b10e954"
      }
     }
    },
    "39b995da-8164-4191-97fa-126bbe9a9c13": {
     "id": "39b995da-8164-4191-97fa-126bbe9a9c13",
     "prev": "efb38a77-d38d-4004-a8d2-e16791ef4448",
     "regions": {
      "abfb13e5-f301-4013-a152-3f165c0e1299": {
       "attrs": {
        "height": 0.8,
        "width": 0.8,
        "x": 0.1,
        "y": 0.1
       },
       "content": {
        "cell": "e1d4e5a9-715b-412f-b881-5306080566d0",
        "part": "whole"
       },
       "id": "abfb13e5-f301-4013-a152-3f165c0e1299"
      }
     }
    },
    "3c39b8cb-b3ee-42a8-b58a-23f42dd1afb7": {
     "id": "3c39b8cb-b3ee-42a8-b58a-23f42dd1afb7",
     "prev": "0d1a4ca3-9779-41bc-a0b3-d212cb7d4a8c",
     "regions": {
      "c5719391-2268-411a-a785-1ee02e70ca98": {
       "attrs": {
        "height": 0.8,
        "width": 0.8,
        "x": 0.1,
        "y": 0.1
       },
       "content": {
        "cell": "d266ff00-54d6-47f7-a26c-eea6cd1e468f",
        "part": "whole"
       },
       "id": "c5719391-2268-411a-a785-1ee02e70ca98"
      }
     }
    },
    "3d0dbf54-52e5-4743-a89f-c150039d1e1d": {
     "id": "3d0dbf54-52e5-4743-a89f-c150039d1e1d",
     "prev": "47f1d1e8-c00c-4cc6-b6db-b3b5dec491a7",
     "regions": {
      "49d32907-2026-4c47-949f-0c89f19c68eb": {
       "attrs": {
        "height": 0.8,
        "width": 0.8,
        "x": 0.1,
        "y": 0.1
       },
       "content": {
        "cell": "e1d4e5a9-715b-412f-b881-5306080566d0",
        "part": "whole"
       },
       "id": "49d32907-2026-4c47-949f-0c89f19c68eb"
      }
     }
    },
    "3f9d811f-b09e-4b43-92cd-cde475b9c555": {
     "id": "3f9d811f-b09e-4b43-92cd-cde475b9c555",
     "prev": "3d0dbf54-52e5-4743-a89f-c150039d1e1d",
     "regions": {
      "ec6e19e1-b3e7-4030-9522-b92032417481": {
       "attrs": {
        "height": 0.8,
        "width": 0.8,
        "x": 0.1,
        "y": 0.1
       },
       "content": {
        "cell": "479ad6be-6ef5-4a23-83fa-5a3438bed78c",
        "part": "whole"
       },
       "id": "ec6e19e1-b3e7-4030-9522-b92032417481"
      }
     }
    },
    "41f1ac43-20aa-4be5-98e4-359d8294fa5a": {
     "id": "41f1ac43-20aa-4be5-98e4-359d8294fa5a",
     "prev": "85cdb4b9-8c14-490e-861b-988132f067bb",
     "regions": {
      "b3aaf14c-3e4f-477d-8e7f-065d04e1be0a": {
       "attrs": {
        "height": 0.8,
        "width": 0.8,
        "x": 0.1,
        "y": 0.1
       },
       "content": {
        "cell": "6e941245-3e15-4018-a947-9e66bc58c86e",
        "part": "whole"
       },
       "id": "b3aaf14c-3e4f-477d-8e7f-065d04e1be0a"
      }
     }
    },
    "43ecdc28-ce1b-4c27-a143-3b0f6dfaa54f": {
     "id": "43ecdc28-ce1b-4c27-a143-3b0f6dfaa54f",
     "prev": "ad0964ff-fae9-4b44-a978-12dad9d949b5",
     "regions": {
      "95c45e90-6ed9-4882-985e-3fa7e31968f7": {
       "attrs": {
        "height": 0.8,
        "width": 0.8,
        "x": 0.1,
        "y": 0.1
       },
       "content": {
        "cell": "fdd10c00-53ba-405d-8622-fbfeac17d3bb",
        "part": "whole"
       },
       "id": "95c45e90-6ed9-4882-985e-3fa7e31968f7"
      }
     }
    },
    "47f1d1e8-c00c-4cc6-b6db-b3b5dec491a7": {
     "id": "47f1d1e8-c00c-4cc6-b6db-b3b5dec491a7",
     "prev": "70ea2b93-7bef-4144-b2ae-7d93079f890f",
     "regions": {
      "353852e7-a881-4c8b-a077-0e8f263f9cd1": {
       "attrs": {
        "height": 0.8,
        "width": 0.8,
        "x": 0.1,
        "y": 0.1
       },
       "content": {
        "cell": "eb6724ef-65dc-4f74-b92c-3f9e540a7b35",
        "part": "whole"
       },
       "id": "353852e7-a881-4c8b-a077-0e8f263f9cd1"
      }
     }
    },
    "4990bcde-5278-4c18-b9e3-d40b08618221": {
     "id": "4990bcde-5278-4c18-b9e3-d40b08618221",
     "prev": "d6815d16-3361-4aec-bdda-c20916e2958c",
     "regions": {
      "b6fc53ab-f89a-49d1-b0fd-44efbcaebdd8": {
       "attrs": {
        "height": 0.8,
        "width": 0.8,
        "x": 0.1,
        "y": 0.1
       },
       "content": {
        "cell": "2f809521-0a9c-4000-ba29-f6fcbb027dc9",
        "part": "whole"
       },
       "id": "b6fc53ab-f89a-49d1-b0fd-44efbcaebdd8"
      }
     }
    },
    "4c3af69f-0dbf-4538-a217-4674c220e1ce": {
     "id": "4c3af69f-0dbf-4538-a217-4674c220e1ce",
     "prev": "1b7fa3bc-7a7d-426c-ba1d-4fe4d2c63787",
     "regions": {
      "ed6a99e6-abe3-402c-9d1e-895c79ebfb51": {
       "attrs": {
        "height": 0.8,
        "width": 0.8,
        "x": 0.1,
        "y": 0.1
       },
       "content": {
        "cell": "db543249-4452-45e1-a0fa-324296059f19",
        "part": "whole"
       },
       "id": "ed6a99e6-abe3-402c-9d1e-895c79ebfb51"
      }
     }
    },
    "4e734229-1e33-429a-ab1e-9f25538f7799": {
     "id": "4e734229-1e33-429a-ab1e-9f25538f7799",
     "prev": "dac34957-e22e-418c-b575-a1ae52ebee9a",
     "regions": {
      "fedd46f4-a0e9-4859-8b03-23150d19893a": {
       "attrs": {
        "height": 0.8,
        "width": 0.8,
        "x": 0.1,
        "y": 0.1
       },
       "content": {
        "cell": "c2f7177c-9a56-46a7-8e51-53c1ccdac759",
        "part": "whole"
       },
       "id": "fedd46f4-a0e9-4859-8b03-23150d19893a"
      }
     }
    },
    "54e37292-6b6a-42a2-b2d9-2526c00a35b6": {
     "id": "54e37292-6b6a-42a2-b2d9-2526c00a35b6",
     "prev": "ccb21490-40cb-425d-9738-9a08f56265f6",
     "regions": {
      "6bff46e7-b141-437c-a413-524951f4e72f": {
       "attrs": {
        "height": 0.8,
        "width": 0.8,
        "x": 0.1,
        "y": 0.1
       },
       "content": {
        "cell": "05579e7a-be31-4942-a9a9-9f087cc284ff",
        "part": "whole"
       },
       "id": "6bff46e7-b141-437c-a413-524951f4e72f"
      }
     }
    },
    "5caa41a3-a416-4b62-ad94-9efc601a0761": {
     "id": "5caa41a3-a416-4b62-ad94-9efc601a0761",
     "prev": "f3fd7c80-e6c3-4fe1-8da4-d8c46dec60f5",
     "regions": {
      "8aff2690-5aab-4ef2-a038-15de457228e8": {
       "attrs": {
        "height": 0.8,
        "width": 0.8,
        "x": 0.1,
        "y": 0.1
       },
       "content": {
        "cell": "db543249-4452-45e1-a0fa-324296059f19",
        "part": "whole"
       },
       "id": "8aff2690-5aab-4ef2-a038-15de457228e8"
      }
     }
    },
    "644939af-71cf-4118-b725-186deee66293": {
     "id": "644939af-71cf-4118-b725-186deee66293",
     "prev": "22ac0a05-fa20-4071-9eeb-0cd7e8bc1495",
     "regions": {
      "2534f9df-66e9-4f28-ac38-2353f352a4b4": {
       "attrs": {
        "height": 0.8,
        "width": 0.8,
        "x": 0.1,
        "y": 0.1
       },
       "content": {
        "cell": "fdd10c00-53ba-405d-8622-fbfeac17d3bb",
        "part": "whole"
       },
       "id": "2534f9df-66e9-4f28-ac38-2353f352a4b4"
      }
     }
    },
    "6b00f37c-e15e-4979-b7b1-fb36dadd0d3e": {
     "id": "6b00f37c-e15e-4979-b7b1-fb36dadd0d3e",
     "prev": "0eab16c6-3c1a-4f9c-a6d9-a1cf6220a9a2",
     "regions": {
      "9065871c-7a40-4a6f-be71-04c61fb3d4ed": {
       "attrs": {
        "height": 0.8,
        "width": 0.8,
        "x": 0.1,
        "y": 0.1
       },
       "content": {
        "cell": "823d3663-8326-493a-a3fc-19b7114ef367",
        "part": "whole"
       },
       "id": "9065871c-7a40-4a6f-be71-04c61fb3d4ed"
      }
     }
    },
    "6c3de2fd-22fe-4b21-bd8f-c97a98e470a4": {
     "id": "6c3de2fd-22fe-4b21-bd8f-c97a98e470a4",
     "prev": "d7f8c565-3a5f-4d4f-b909-2d81839e6896",
     "regions": {
      "c9366dfe-5d4c-4496-a0f0-03a107250f99": {
       "attrs": {
        "height": 0.8,
        "width": 0.8,
        "x": 0.1,
        "y": 0.1
       },
       "content": {
        "cell": "d266ff00-54d6-47f7-a26c-eea6cd1e468f",
        "part": "whole"
       },
       "id": "c9366dfe-5d4c-4496-a0f0-03a107250f99"
      }
     }
    },
    "70ea2b93-7bef-4144-b2ae-7d93079f890f": {
     "id": "70ea2b93-7bef-4144-b2ae-7d93079f890f",
     "prev": "127a45d8-ef23-4438-9cb9-c721e712e2ad",
     "regions": {
      "3ea4c7c2-650f-41b5-80af-81d976f323e4": {
       "attrs": {
        "height": 0.8,
        "width": 0.8,
        "x": 0.1,
        "y": 0.1
       },
       "content": {
        "cell": "41d6f28b-3c7e-4d68-a8cb-4e063ec6fe27",
        "part": "whole"
       },
       "id": "3ea4c7c2-650f-41b5-80af-81d976f323e4"
      }
     }
    },
    "73b93342-b297-40d2-83fa-0a5c3569b07b": {
     "id": "73b93342-b297-40d2-83fa-0a5c3569b07b",
     "prev": "218a5d27-8c88-4475-9c19-04b6af5781ed",
     "regions": {
      "137602b1-d910-48a6-8214-eeb299661772": {
       "attrs": {
        "height": 0.8,
        "width": 0.8,
        "x": 0.1,
        "y": 0.1
       },
       "content": {
        "cell": "2f809521-0a9c-4000-ba29-f6fcbb027dc9",
        "part": "whole"
       },
       "id": "137602b1-d910-48a6-8214-eeb299661772"
      }
     }
    },
    "744b667b-61a0-4bb2-b78e-9de2788bc7e8": {
     "id": "744b667b-61a0-4bb2-b78e-9de2788bc7e8",
     "prev": "3f9d811f-b09e-4b43-92cd-cde475b9c555",
     "regions": {
      "a14c6f68-caf3-4f49-aee2-90d1761f0d0d": {
       "attrs": {
        "height": 0.8,
        "width": 0.8,
        "x": 0.1,
        "y": 0.1
       },
       "content": {
        "cell": "ba9ad1d9-659e-4fad-a0fd-0a23e7b56fc0",
        "part": "whole"
       },
       "id": "a14c6f68-caf3-4f49-aee2-90d1761f0d0d"
      }
     }
    },
    "834f16ec-1755-40aa-9405-fa356485e8be": {
     "id": "834f16ec-1755-40aa-9405-fa356485e8be",
     "prev": "33eed3c0-aa11-4eeb-a2d8-e38080594622",
     "regions": {
      "3051de16-0381-431c-86e4-d29c57fb325d": {
       "attrs": {
        "height": 0.8,
        "width": 0.8,
        "x": 0.1,
        "y": 0.1
       },
       "content": {
        "cell": "ba9ad1d9-659e-4fad-a0fd-0a23e7b56fc0",
        "part": "whole"
       },
       "id": "3051de16-0381-431c-86e4-d29c57fb325d"
      }
     }
    },
    "84e5d013-5ab1-4159-aa5f-fc7f55caab96": {
     "id": "84e5d013-5ab1-4159-aa5f-fc7f55caab96",
     "prev": "29c82185-c087-4da1-820d-e67d6f607544",
     "regions": {
      "3f22d886-6e54-4fe9-8daf-18796f426768": {
       "attrs": {
        "height": 0.8,
        "width": 0.8,
        "x": 0.1,
        "y": 0.1
       },
       "content": {
        "cell": "fdd10c00-53ba-405d-8622-fbfeac17d3bb",
        "part": "whole"
       },
       "id": "3f22d886-6e54-4fe9-8daf-18796f426768"
      }
     }
    },
    "85cdb4b9-8c14-490e-861b-988132f067bb": {
     "id": "85cdb4b9-8c14-490e-861b-988132f067bb",
     "prev": "04c02612-b7a3-4a6b-b46e-f0b64285f34f",
     "regions": {
      "27457dde-4bf2-44d0-ba73-9162622e3bdc": {
       "attrs": {
        "height": 0.8,
        "width": 0.8,
        "x": 0.1,
        "y": 0.1
       },
       "content": {
        "cell": "ba9ad1d9-659e-4fad-a0fd-0a23e7b56fc0",
        "part": "whole"
       },
       "id": "27457dde-4bf2-44d0-ba73-9162622e3bdc"
      }
     }
    },
    "888db3f7-5824-4459-a8d6-36927be78fce": {
     "id": "888db3f7-5824-4459-a8d6-36927be78fce",
     "prev": "aa64bc2c-0a71-4a60-894d-9fe54691404b",
     "regions": {
      "d59a5b99-359c-4ab6-9557-641371d38620": {
       "attrs": {
        "height": 0.8,
        "width": 0.8,
        "x": 0.1,
        "y": 0.1
       },
       "content": {
        "cell": "97a46770-dbe0-40ea-b454-b15bdec20f53",
        "part": "whole"
       },
       "id": "d59a5b99-359c-4ab6-9557-641371d38620"
      }
     }
    },
    "8affd1e6-70b8-4959-8bcc-9fa3d98ac946": {
     "id": "8affd1e6-70b8-4959-8bcc-9fa3d98ac946",
     "prev": "da2956f8-18a5-4bfa-9591-5cf3e39e7248",
     "regions": {
      "84eb25c1-1e33-4e39-9b2d-8f8c9e13ec7c": {
       "attrs": {
        "height": 0.8,
        "width": 0.8,
        "x": 0.1,
        "y": 0.1
       },
       "content": {
        "cell": "6e941245-3e15-4018-a947-9e66bc58c86e",
        "part": "whole"
       },
       "id": "84eb25c1-1e33-4e39-9b2d-8f8c9e13ec7c"
      }
     }
    },
    "8bbf13ba-d21a-4e20-b6fb-8248fbcb7d14": {
     "id": "8bbf13ba-d21a-4e20-b6fb-8248fbcb7d14",
     "prev": "22126885-b04a-4cd1-b348-0dc9a5b353d1",
     "regions": {
      "2efe0c9d-7786-4107-8ff4-1bf1246eb94f": {
       "attrs": {
        "height": 0.8,
        "width": 0.8,
        "x": 0.1,
        "y": 0.1
       },
       "content": {
        "cell": "a3c4d54d-1c66-4511-9276-0a976adc27a3",
        "part": "whole"
       },
       "id": "2efe0c9d-7786-4107-8ff4-1bf1246eb94f"
      }
     }
    },
    "963feba9-0d2a-4c66-85cc-96d2fc723e8e": {
     "id": "963feba9-0d2a-4c66-85cc-96d2fc723e8e",
     "prev": null,
     "regions": {
      "03648aaa-3268-4c18-806d-e999756ac4cf": {
       "attrs": {
        "height": 0.8,
        "width": 0.8,
        "x": 0.1,
        "y": 0.1
       },
       "content": {
        "cell": "eb6724ef-65dc-4f74-b92c-3f9e540a7b35",
        "part": "whole"
       },
       "id": "03648aaa-3268-4c18-806d-e999756ac4cf"
      }
     }
    },
    "a52fcace-21c6-4d27-9ee8-f87e06b1bf4b": {
     "id": "a52fcace-21c6-4d27-9ee8-f87e06b1bf4b",
     "prev": "f282fd14-a561-4ad9-958b-ceeb296e93d6",
     "regions": {
      "2c8df343-f44b-4b1f-9bed-f9374dab1541": {
       "attrs": {
        "height": 0.8,
        "width": 0.8,
        "x": 0.1,
        "y": 0.1
       },
       "content": {
        "cell": "41d6f28b-3c7e-4d68-a8cb-4e063ec6fe27",
        "part": "whole"
       },
       "id": "2c8df343-f44b-4b1f-9bed-f9374dab1541"
      }
     }
    },
    "aa64bc2c-0a71-4a60-894d-9fe54691404b": {
     "id": "aa64bc2c-0a71-4a60-894d-9fe54691404b",
     "prev": "744b667b-61a0-4bb2-b78e-9de2788bc7e8",
     "regions": {
      "58be5b97-dc19-4de8-add9-c05fcca8a613": {
       "attrs": {
        "height": 0.8,
        "width": 0.8,
        "x": 0.1,
        "y": 0.1
       },
       "content": {
        "cell": "6e941245-3e15-4018-a947-9e66bc58c86e",
        "part": "whole"
       },
       "id": "58be5b97-dc19-4de8-add9-c05fcca8a613"
      }
     }
    },
    "ad0964ff-fae9-4b44-a978-12dad9d949b5": {
     "id": "ad0964ff-fae9-4b44-a978-12dad9d949b5",
     "prev": "351921d3-3e52-4de7-ac14-e2d065745a4c",
     "regions": {
      "2852b579-93ae-4565-8add-20bc3ff9dcef": {
       "attrs": {
        "height": 0.8,
        "width": 0.8,
        "x": 0.1,
        "y": 0.1
       },
       "content": {
        "cell": "d266ff00-54d6-47f7-a26c-eea6cd1e468f",
        "part": "whole"
       },
       "id": "2852b579-93ae-4565-8add-20bc3ff9dcef"
      }
     }
    },
    "b6a3e0da-299e-4ed2-b91b-2acffd354cdf": {
     "id": "b6a3e0da-299e-4ed2-b91b-2acffd354cdf",
     "prev": "24ebeb55-bda2-46aa-b01d-2eb1e08ec4b9",
     "regions": {
      "cec135fa-0989-4cae-9d41-1af9445b29a8": {
       "attrs": {
        "height": 0.8,
        "width": 0.8,
        "x": 0.1,
        "y": 0.1
       },
       "content": {
        "cell": "97a46770-dbe0-40ea-b454-b15bdec20f53",
        "part": "whole"
       },
       "id": "cec135fa-0989-4cae-9d41-1af9445b29a8"
      }
     }
    },
    "be687a44-3db4-4be7-9f39-71fb43cc9fbc": {
     "id": "be687a44-3db4-4be7-9f39-71fb43cc9fbc",
     "prev": "8affd1e6-70b8-4959-8bcc-9fa3d98ac946",
     "regions": {
      "87ea0664-8af3-4c54-aa8f-0b9f0c2bd4e8": {
       "attrs": {
        "height": 0.8,
        "width": 0.8,
        "x": 0.1,
        "y": 0.1
       },
       "content": {
        "cell": "97a46770-dbe0-40ea-b454-b15bdec20f53",
        "part": "whole"
       },
       "id": "87ea0664-8af3-4c54-aa8f-0b9f0c2bd4e8"
      }
     }
    },
    "bf0895a0-bc5b-466d-a091-07382c006dd6": {
     "id": "bf0895a0-bc5b-466d-a091-07382c006dd6",
     "prev": "2d6a9841-621c-4219-9bd2-c010aac01f3a",
     "regions": {
      "7ebcb078-8ca9-4728-93a6-c7178465168f": {
       "attrs": {
        "height": 0.8,
        "width": 0.8,
        "x": 0.1,
        "y": 0.1
       },
       "content": {
        "cell": "db543249-4452-45e1-a0fa-324296059f19",
        "part": "whole"
       },
       "id": "7ebcb078-8ca9-4728-93a6-c7178465168f"
      }
     }
    },
    "c0cc38e5-c3b6-4f92-a3b0-e31ec2159b50": {
     "id": "c0cc38e5-c3b6-4f92-a3b0-e31ec2159b50",
     "prev": "834f16ec-1755-40aa-9405-fa356485e8be",
     "regions": {
      "0a944982-056c-4c22-b01c-3378924f27bc": {
       "attrs": {
        "height": 0.8,
        "width": 0.8,
        "x": 0.1,
        "y": 0.1
       },
       "content": {
        "cell": "6e941245-3e15-4018-a947-9e66bc58c86e",
        "part": "whole"
       },
       "id": "0a944982-056c-4c22-b01c-3378924f27bc"
      }
     }
    },
    "cb224ddf-91c8-4058-a92c-589888536dce": {
     "id": "cb224ddf-91c8-4058-a92c-589888536dce",
     "prev": "f8f60d11-8c40-4a82-ad2d-4ddbc346064a",
     "regions": {
      "5db7b356-55ac-4638-92ee-9aee8eb79745": {
       "attrs": {
        "height": 0.8,
        "width": 0.8,
        "x": 0.1,
        "y": 0.1
       },
       "content": {
        "cell": "e1d4e5a9-715b-412f-b881-5306080566d0",
        "part": "whole"
       },
       "id": "5db7b356-55ac-4638-92ee-9aee8eb79745"
      }
     }
    },
    "cc146373-3ece-4360-9e15-95a78c2a6228": {
     "id": "cc146373-3ece-4360-9e15-95a78c2a6228",
     "prev": "206a856d-3055-461c-8169-ffee8f39c28e",
     "regions": {
      "18bd17df-8f7c-40a0-b547-d396bb43f9d8": {
       "attrs": {
        "height": 0.8,
        "width": 0.8,
        "x": 0.1,
        "y": 0.1
       },
       "content": {
        "cell": "7e847244-7b42-490f-8945-46e234a3af75",
        "part": "whole"
       },
       "id": "18bd17df-8f7c-40a0-b547-d396bb43f9d8"
      }
     }
    },
    "ccb21490-40cb-425d-9738-9a08f56265f6": {
     "id": "ccb21490-40cb-425d-9738-9a08f56265f6",
     "prev": "4e734229-1e33-429a-ab1e-9f25538f7799",
     "regions": {
      "9c0b0fc7-6e91-47b9-aafd-3b68186f9b1c": {
       "attrs": {
        "height": 0.8,
        "width": 0.8,
        "x": 0.1,
        "y": 0.1
       },
       "content": {
        "cell": "2f809521-0a9c-4000-ba29-f6fcbb027dc9",
        "part": "whole"
       },
       "id": "9c0b0fc7-6e91-47b9-aafd-3b68186f9b1c"
      }
     }
    },
    "cced8bf0-fff7-4aa8-a171-61b61bb5f70b": {
     "id": "cced8bf0-fff7-4aa8-a171-61b61bb5f70b",
     "prev": "6c3de2fd-22fe-4b21-bd8f-c97a98e470a4",
     "regions": {
      "aa9d94b0-aa3d-4b28-b9af-cd6566af8ce6": {
       "attrs": {
        "height": 0.8,
        "width": 0.8,
        "x": 0.1,
        "y": 0.1
       },
       "content": {
        "cell": "fdd10c00-53ba-405d-8622-fbfeac17d3bb",
        "part": "whole"
       },
       "id": "aa9d94b0-aa3d-4b28-b9af-cd6566af8ce6"
      }
     }
    },
    "d4a64d2e-3fa3-4742-b817-999ee662f9a2": {
     "id": "d4a64d2e-3fa3-4742-b817-999ee662f9a2",
     "prev": "0d8fa08d-7d0f-4378-8065-26382e5a86e2",
     "regions": {
      "6f4633db-bd8c-4ede-890e-d8c82fef3a22": {
       "attrs": {
        "height": 0.8,
        "width": 0.8,
        "x": 0.1,
        "y": 0.1
       },
       "content": {
        "cell": "823d3663-8326-493a-a3fc-19b7114ef367",
        "part": "whole"
       },
       "id": "6f4633db-bd8c-4ede-890e-d8c82fef3a22"
      }
     }
    },
    "d55e9216-ec74-4b8a-8c86-626de0a99a3f": {
     "id": "d55e9216-ec74-4b8a-8c86-626de0a99a3f",
     "prev": "0f0856fc-b72e-4a9e-9279-f0b70282084a",
     "regions": {
      "1f11ff0a-2933-4966-b23b-4471b9ba3fe1": {
       "attrs": {
        "height": 0.8,
        "width": 0.8,
        "x": 0.1,
        "y": 0.1
       },
       "content": {
        "cell": "823d3663-8326-493a-a3fc-19b7114ef367",
        "part": "whole"
       },
       "id": "1f11ff0a-2933-4966-b23b-4471b9ba3fe1"
      }
     }
    },
    "d6815d16-3361-4aec-bdda-c20916e2958c": {
     "id": "d6815d16-3361-4aec-bdda-c20916e2958c",
     "prev": "888db3f7-5824-4459-a8d6-36927be78fce",
     "regions": {
      "0276812b-043d-4477-8e3b-c8ab28a48dfe": {
       "attrs": {
        "height": 0.8,
        "width": 0.8,
        "x": 0.1,
        "y": 0.1
       },
       "content": {
        "cell": "c2f7177c-9a56-46a7-8e51-53c1ccdac759",
        "part": "whole"
       },
       "id": "0276812b-043d-4477-8e3b-c8ab28a48dfe"
      }
     }
    },
    "d7f8c565-3a5f-4d4f-b909-2d81839e6896": {
     "id": "d7f8c565-3a5f-4d4f-b909-2d81839e6896",
     "prev": "f06bb312-3e06-4eab-9a4a-a1f10cb67455",
     "regions": {
      "b9a2cb44-4072-49c9-9f76-ae04a82aaeb3": {
       "attrs": {
        "height": 0.8,
        "width": 0.8,
        "x": 0.1,
        "y": 0.1
       },
       "content": {
        "cell": "05579e7a-be31-4942-a9a9-9f087cc284ff",
        "part": "whole"
       },
       "id": "b9a2cb44-4072-49c9-9f76-ae04a82aaeb3"
      }
     }
    },
    "d8a1cce1-10b5-4725-86a4-045d061273ee": {
     "id": "d8a1cce1-10b5-4725-86a4-045d061273ee",
     "prev": "6b00f37c-e15e-4979-b7b1-fb36dadd0d3e",
     "regions": {
      "c24a5fc8-2a90-4c13-91d7-223ad92cd794": {
       "attrs": {
        "height": 0.8,
        "width": 0.8,
        "x": 0.1,
        "y": 0.1
       },
       "content": {
        "cell": "7e847244-7b42-490f-8945-46e234a3af75",
        "part": "whole"
       },
       "id": "c24a5fc8-2a90-4c13-91d7-223ad92cd794"
      }
     }
    },
    "da2956f8-18a5-4bfa-9591-5cf3e39e7248": {
     "id": "da2956f8-18a5-4bfa-9591-5cf3e39e7248",
     "prev": "00185e5a-e023-4efa-9b74-1d4003fed039",
     "regions": {
      "f7d068d1-64bb-47e5-a163-ba870a8a8e68": {
       "attrs": {
        "height": 0.8,
        "width": 0.8,
        "x": 0.1,
        "y": 0.1
       },
       "content": {
        "cell": "ba9ad1d9-659e-4fad-a0fd-0a23e7b56fc0",
        "part": "whole"
       },
       "id": "f7d068d1-64bb-47e5-a163-ba870a8a8e68"
      }
     }
    },
    "da615caf-6de2-4243-81c2-6b6ee2b24524": {
     "id": "da615caf-6de2-4243-81c2-6b6ee2b24524",
     "prev": "d4a64d2e-3fa3-4742-b817-999ee662f9a2",
     "regions": {
      "caac7351-001b-4708-90db-2a152c2fd4f5": {
       "attrs": {
        "height": 0.8,
        "width": 0.8,
        "x": 0.1,
        "y": 0.1
       },
       "content": {
        "cell": "7e847244-7b42-490f-8945-46e234a3af75",
        "part": "whole"
       },
       "id": "caac7351-001b-4708-90db-2a152c2fd4f5"
      }
     }
    },
    "dac34957-e22e-418c-b575-a1ae52ebee9a": {
     "id": "dac34957-e22e-418c-b575-a1ae52ebee9a",
     "prev": "c0cc38e5-c3b6-4f92-a3b0-e31ec2159b50",
     "regions": {
      "cb1a886d-2883-420c-b013-d8e150fb56b7": {
       "attrs": {
        "height": 0.8,
        "width": 0.8,
        "x": 0.1,
        "y": 0.1
       },
       "content": {
        "cell": "97a46770-dbe0-40ea-b454-b15bdec20f53",
        "part": "whole"
       },
       "id": "cb1a886d-2883-420c-b013-d8e150fb56b7"
      }
     }
    },
    "e1f94e70-f7b9-4d99-94c3-01f0f0a8251d": {
     "id": "e1f94e70-f7b9-4d99-94c3-01f0f0a8251d",
     "prev": "4990bcde-5278-4c18-b9e3-d40b08618221",
     "regions": {
      "7f0152f1-c574-4a02-8d63-4018e2bb6524": {
       "attrs": {
        "height": 0.8,
        "width": 0.8,
        "x": 0.1,
        "y": 0.1
       },
       "content": {
        "cell": "05579e7a-be31-4942-a9a9-9f087cc284ff",
        "part": "whole"
       },
       "id": "7f0152f1-c574-4a02-8d63-4018e2bb6524"
      }
     }
    },
    "e40b3af6-c94f-4511-a3e4-14eafa9346b2": {
     "id": "e40b3af6-c94f-4511-a3e4-14eafa9346b2",
     "prev": "ec782cf2-d511-49a3-97ab-70a945e504fc",
     "regions": {
      "3c64fe83-8170-4bf8-9e53-e7ab514a6b9e": {
       "attrs": {
        "height": 0.8,
        "width": 0.8,
        "x": 0.1,
        "y": 0.1
       },
       "content": {
        "cell": "41d6f28b-3c7e-4d68-a8cb-4e063ec6fe27",
        "part": "whole"
       },
       "id": "3c64fe83-8170-4bf8-9e53-e7ab514a6b9e"
      }
     }
    },
    "e69d870b-7f80-4eb6-92f4-f349f582b63d": {
     "id": "e69d870b-7f80-4eb6-92f4-f349f582b63d",
     "prev": "37d0d82e-1379-4317-93cf-784cec2d5a7e",
     "regions": {
      "9dd87015-cc5f-4576-a2a9-983133aa77a8": {
       "attrs": {
        "height": 0.8,
        "width": 0.8,
        "x": 0.1,
        "y": 0.1
       },
       "content": {
        "cell": "41d6f28b-3c7e-4d68-a8cb-4e063ec6fe27",
        "part": "whole"
       },
       "id": "9dd87015-cc5f-4576-a2a9-983133aa77a8"
      }
     }
    },
    "e9111b59-1bbf-4818-9be0-ed5ef8fa6fc6": {
     "id": "e9111b59-1bbf-4818-9be0-ed5ef8fa6fc6",
     "prev": "2eb5b91d-2f89-4478-a871-9ebabfe8c755",
     "regions": {
      "542e088b-2244-4d49-855d-677f84e3557e": {
       "attrs": {
        "height": 0.8,
        "width": 0.8,
        "x": 0.1,
        "y": 0.1
       },
       "content": {
        "cell": "ecdacfd7-456b-4b29-9c7d-aba29749c18f",
        "part": "whole"
       },
       "id": "542e088b-2244-4d49-855d-677f84e3557e"
      }
     }
    },
    "e96ea25d-f12d-4df2-9229-29bbb6f89e57": {
     "id": "e96ea25d-f12d-4df2-9229-29bbb6f89e57",
     "prev": "f502cb85-a418-4e67-bc76-61d1d24781e6",
     "regions": {
      "299a1007-3dd4-4210-8be7-09571a22ef91": {
       "attrs": {
        "height": 0.8,
        "width": 0.8,
        "x": 0.1,
        "y": 0.1
       },
       "content": {
        "cell": "2f809521-0a9c-4000-ba29-f6fcbb027dc9",
        "part": "whole"
       },
       "id": "299a1007-3dd4-4210-8be7-09571a22ef91"
      }
     }
    },
    "ec782cf2-d511-49a3-97ab-70a945e504fc": {
     "id": "ec782cf2-d511-49a3-97ab-70a945e504fc",
     "prev": null,
     "regions": {
      "09f08875-f31a-4f2d-b572-3e27a524e506": {
       "attrs": {
        "height": 0.8,
        "width": 0.8,
        "x": 0.1,
        "y": 0.1
       },
       "content": {
        "cell": "62d4851b-e85e-419e-901a-d5c03db59166",
        "part": "whole"
       },
       "id": "09f08875-f31a-4f2d-b572-3e27a524e506"
      }
     }
    },
    "efb38a77-d38d-4004-a8d2-e16791ef4448": {
     "id": "efb38a77-d38d-4004-a8d2-e16791ef4448",
     "prev": "e69d870b-7f80-4eb6-92f4-f349f582b63d",
     "regions": {
      "13305e20-9e90-4cde-bc61-7012b221d6df": {
       "attrs": {
        "height": 0.8,
        "width": 0.8,
        "x": 0.1,
        "y": 0.1
       },
       "content": {
        "cell": "eb6724ef-65dc-4f74-b92c-3f9e540a7b35",
        "part": "whole"
       },
       "id": "13305e20-9e90-4cde-bc61-7012b221d6df"
      }
     }
    },
    "f06bb312-3e06-4eab-9a4a-a1f10cb67455": {
     "id": "f06bb312-3e06-4eab-9a4a-a1f10cb67455",
     "prev": "0c825f9e-60ad-44b9-a3a9-32977b6dc07b",
     "regions": {
      "5d920271-fc5c-43d3-a65d-57428ad528d7": {
       "attrs": {
        "height": 0.8,
        "width": 0.8,
        "x": 0.1,
        "y": 0.1
       },
       "content": {
        "cell": "2f809521-0a9c-4000-ba29-f6fcbb027dc9",
        "part": "whole"
       },
       "id": "5d920271-fc5c-43d3-a65d-57428ad528d7"
      }
     }
    },
    "f282fd14-a561-4ad9-958b-ceeb296e93d6": {
     "id": "f282fd14-a561-4ad9-958b-ceeb296e93d6",
     "prev": null,
     "regions": {
      "11c6f549-2ac4-4211-a352-a4c9013a5723": {
       "attrs": {
        "height": 0.8,
        "width": 0.8,
        "x": 0.1,
        "y": 0.1
       },
       "content": {
        "cell": "62d4851b-e85e-419e-901a-d5c03db59166",
        "part": "whole"
       },
       "id": "11c6f549-2ac4-4211-a352-a4c9013a5723"
      }
     }
    },
    "f2d04c15-4d2b-4c7e-992a-72c2b870c759": {
     "id": "f2d04c15-4d2b-4c7e-992a-72c2b870c759",
     "prev": "2f879b6f-c9ea-44d7-91e7-9baa9101dcde",
     "regions": {
      "93c73624-fd8e-434c-a0b5-a191e22a1a28": {
       "attrs": {
        "height": 0.8,
        "width": 0.8,
        "x": 0.1,
        "y": 0.1
       },
       "content": {
        "cell": "af0acd3e-f4a3-4da9-9772-6a6f896da772",
        "part": "whole"
       },
       "id": "93c73624-fd8e-434c-a0b5-a191e22a1a28"
      }
     }
    },
    "f37968a2-f924-46ba-b214-57fef6c8e053": {
     "id": "f37968a2-f924-46ba-b214-57fef6c8e053",
     "prev": "2199474d-0f28-43f0-b05c-38e712655efe",
     "regions": {
      "eb7c9691-162f-4bc9-b740-a880290d5480": {
       "attrs": {
        "height": 0.8,
        "width": 0.8,
        "x": 0.1,
        "y": 0.1
       },
       "content": {
        "cell": "823d3663-8326-493a-a3fc-19b7114ef367",
        "part": "whole"
       },
       "id": "eb7c9691-162f-4bc9-b740-a880290d5480"
      }
     }
    },
    "f3fd7c80-e6c3-4fe1-8da4-d8c46dec60f5": {
     "id": "f3fd7c80-e6c3-4fe1-8da4-d8c46dec60f5",
     "prev": "e9111b59-1bbf-4818-9be0-ed5ef8fa6fc6",
     "regions": {
      "c8f21071-20c8-4180-9de4-b94971c0e22a": {
       "attrs": {
        "height": 0.8,
        "width": 0.8,
        "x": 0.1,
        "y": 0.1
       },
       "content": {
        "cell": "af0acd3e-f4a3-4da9-9772-6a6f896da772",
        "part": "whole"
       },
       "id": "c8f21071-20c8-4180-9de4-b94971c0e22a"
      }
     }
    },
    "f502cb85-a418-4e67-bc76-61d1d24781e6": {
     "id": "f502cb85-a418-4e67-bc76-61d1d24781e6",
     "prev": "be687a44-3db4-4be7-9f39-71fb43cc9fbc",
     "regions": {
      "f28295e1-c68c-4ef1-ba49-1e9122a40b0f": {
       "attrs": {
        "height": 0.8,
        "width": 0.8,
        "x": 0.1,
        "y": 0.1
       },
       "content": {
        "cell": "c2f7177c-9a56-46a7-8e51-53c1ccdac759",
        "part": "whole"
       },
       "id": "f28295e1-c68c-4ef1-ba49-1e9122a40b0f"
      }
     }
    },
    "f5ddb0c0-353d-4e34-8d82-6b2ff74cfd78": {
     "id": "f5ddb0c0-353d-4e34-8d82-6b2ff74cfd78",
     "prev": "d55e9216-ec74-4b8a-8c86-626de0a99a3f",
     "regions": {
      "52f07325-c621-4157-88c3-1bafbb6656b5": {
       "attrs": {
        "height": 0.8,
        "width": 0.8,
        "x": 0.1,
        "y": 0.1
       },
       "content": {
        "cell": "7e847244-7b42-490f-8945-46e234a3af75",
        "part": "whole"
       },
       "id": "52f07325-c621-4157-88c3-1bafbb6656b5"
      }
     }
    },
    "f89c8884-cb84-4930-a1c4-451008b047e0": {
     "id": "f89c8884-cb84-4930-a1c4-451008b047e0",
     "prev": "84e5d013-5ab1-4159-aa5f-fc7f55caab96",
     "regions": {
      "30c3ca41-d7a7-40e8-951e-b12cbfabeb30": {
       "attrs": {
        "height": 0.8,
        "width": 0.8,
        "x": 0.1,
        "y": 0.1
       },
       "content": {
        "cell": "ecdacfd7-456b-4b29-9c7d-aba29749c18f",
        "part": "whole"
       },
       "id": "30c3ca41-d7a7-40e8-951e-b12cbfabeb30"
      }
     }
    },
    "f8f60d11-8c40-4a82-ad2d-4ddbc346064a": {
     "id": "f8f60d11-8c40-4a82-ad2d-4ddbc346064a",
     "prev": "e40b3af6-c94f-4511-a3e4-14eafa9346b2",
     "regions": {
      "53542f5f-3074-44d6-b544-3925b24bbc3a": {
       "attrs": {
        "height": 0.8,
        "width": 0.8,
        "x": 0.1,
        "y": 0.1
       },
       "content": {
        "cell": "eb6724ef-65dc-4f74-b92c-3f9e540a7b35",
        "part": "whole"
       },
       "id": "53542f5f-3074-44d6-b544-3925b24bbc3a"
      }
     }
    }
   },
   "themes": {}
  },
  "notice": "Copyright 2018 Amazon.com, Inc. or its affiliates. All Rights Reserved.  Licensed under the Apache License, Version 2.0 (the \"License\"). You may not use this file except in compliance with the License. A copy of the License is located at http://aws.amazon.com/apache2.0/ or in the \"license\" file accompanying this file. This file is distributed on an \"AS IS\" BASIS, WITHOUT WARRANTIES OR CONDITIONS OF ANY KIND, either express or implied. See the License for the specific language governing permissions and limitations under the License."
 },
 "nbformat": 4,
 "nbformat_minor": 4
}
